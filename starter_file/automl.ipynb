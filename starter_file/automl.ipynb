{
  "cells": [
    {
      "cell_type": "markdown",
      "source": [
        "# Automated ML\n",
        "\n"
      ],
      "metadata": {}
    },
    {
      "cell_type": "code",
      "source": [
        "#TODO: Import Dependencies. In the cell below, import all the dependencies that you will need to complete the project.\r\n",
        "from azureml.core.workspace import Workspace, Dataset\r\n",
        "from azureml.core import Experiment, Model, Webservice\r\n",
        "from azureml.widgets import RunDetails\r\n",
        "from azureml.train.automl import AutoMLConfig\r\n",
        "from azureml.core.compute import ComputeTarget, AmlCompute\r\n",
        "from azureml.core.compute_target import ComputeTargetException"
      ],
      "outputs": [],
      "execution_count": 3,
      "metadata": {
        "gather": {
          "logged": 1621187028753
        },
        "jupyter": {
          "outputs_hidden": false,
          "source_hidden": false
        },
        "nteract": {
          "transient": {
            "deleting": false
          }
        }
      }
    },
    {
      "cell_type": "markdown",
      "source": [
        "## Dataset\n",
        "\n",
        "### Overview\n",
        "This is the clasical titanic dataset. The dataset can be found in kaggle [Titanic](https://www.kaggle.com/c/titanic/data).\n",
        "\n",
        "The attributes are as below\n",
        "Variable\n",
        "- survival\t: Survival\t(0 = No, 1 = Yes)\n",
        "- pclass : Ticket class\t(1 = 1st, 2 = 2nd, 3 = 3rd)\n",
        "- sex\t\t\n",
        "- Age : Age in years\t\n",
        "- sibsp\t: # of siblings / spouses aboard the Titanic\t\n",
        "- parch\t: # of parents / children aboard the Titanic\t\n",
        "- ticket : Ticket number\t\n",
        "- fare\t: Passenger fare\t\n",
        "- cabin\t: Cabin number\t\n",
        "- embarked\t: Port of Embarkation(C = Cherbourg, Q = Queenstown, S = Southampton)\n",
        "\n",
        "### Objective\n",
        "Our objective is to build a classification model on the same"
      ],
      "metadata": {}
    },
    {
      "cell_type": "code",
      "source": [
        "ws = Workspace.from_config()\r\n",
        "experiment_name = 'automl_experiment'\r\n",
        "\r\n",
        "experiment=Experiment(ws, experiment_name)\r\n",
        "\r\n",
        "dataset = Dataset.get_by_name(ws, name='titanic-dataset')\r\n",
        "dataset.to_pandas_dataframe()"
      ],
      "outputs": [
        {
          "output_type": "execute_result",
          "execution_count": 4,
          "data": {
            "text/plain": "     PassengerId  Survived  Pclass  \\\n0              1         0       3   \n1              2         1       1   \n2              3         1       3   \n3              4         1       1   \n4              5         0       3   \n..           ...       ...     ...   \n886          887         0       2   \n887          888         1       1   \n888          889         0       3   \n889          890         1       1   \n890          891         0       3   \n\n                                                  Name     Sex   Age  SibSp  \\\n0                              Braund, Mr. Owen Harris    male  22.0      1   \n1    Cumings, Mrs. John Bradley (Florence Briggs Th...  female  38.0      1   \n2                               Heikkinen, Miss. Laina  female  26.0      0   \n3         Futrelle, Mrs. Jacques Heath (Lily May Peel)  female  35.0      1   \n4                             Allen, Mr. William Henry    male  35.0      0   \n..                                                 ...     ...   ...    ...   \n886                              Montvila, Rev. Juozas    male  27.0      0   \n887                       Graham, Miss. Margaret Edith  female  19.0      0   \n888           Johnston, Miss. Catherine Helen \"Carrie\"  female   NaN      1   \n889                              Behr, Mr. Karl Howell    male  26.0      0   \n890                                Dooley, Mr. Patrick    male  32.0      0   \n\n     Parch            Ticket     Fare Cabin Embarked  \n0        0         A/5 21171   7.2500  None        S  \n1        0          PC 17599  71.2833   C85        C  \n2        0  STON/O2. 3101282   7.9250  None        S  \n3        0            113803  53.1000  C123        S  \n4        0            373450   8.0500  None        S  \n..     ...               ...      ...   ...      ...  \n886      0            211536  13.0000  None        S  \n887      0            112053  30.0000   B42        S  \n888      2        W./C. 6607  23.4500  None        S  \n889      0            111369  30.0000  C148        C  \n890      0            370376   7.7500  None        Q  \n\n[891 rows x 12 columns]",
            "text/html": "<div>\n<style scoped>\n    .dataframe tbody tr th:only-of-type {\n        vertical-align: middle;\n    }\n\n    .dataframe tbody tr th {\n        vertical-align: top;\n    }\n\n    .dataframe thead th {\n        text-align: right;\n    }\n</style>\n<table border=\"1\" class=\"dataframe\">\n  <thead>\n    <tr style=\"text-align: right;\">\n      <th></th>\n      <th>PassengerId</th>\n      <th>Survived</th>\n      <th>Pclass</th>\n      <th>Name</th>\n      <th>Sex</th>\n      <th>Age</th>\n      <th>SibSp</th>\n      <th>Parch</th>\n      <th>Ticket</th>\n      <th>Fare</th>\n      <th>Cabin</th>\n      <th>Embarked</th>\n    </tr>\n  </thead>\n  <tbody>\n    <tr>\n      <th>0</th>\n      <td>1</td>\n      <td>0</td>\n      <td>3</td>\n      <td>Braund, Mr. Owen Harris</td>\n      <td>male</td>\n      <td>22.0</td>\n      <td>1</td>\n      <td>0</td>\n      <td>A/5 21171</td>\n      <td>7.2500</td>\n      <td>None</td>\n      <td>S</td>\n    </tr>\n    <tr>\n      <th>1</th>\n      <td>2</td>\n      <td>1</td>\n      <td>1</td>\n      <td>Cumings, Mrs. John Bradley (Florence Briggs Th...</td>\n      <td>female</td>\n      <td>38.0</td>\n      <td>1</td>\n      <td>0</td>\n      <td>PC 17599</td>\n      <td>71.2833</td>\n      <td>C85</td>\n      <td>C</td>\n    </tr>\n    <tr>\n      <th>2</th>\n      <td>3</td>\n      <td>1</td>\n      <td>3</td>\n      <td>Heikkinen, Miss. Laina</td>\n      <td>female</td>\n      <td>26.0</td>\n      <td>0</td>\n      <td>0</td>\n      <td>STON/O2. 3101282</td>\n      <td>7.9250</td>\n      <td>None</td>\n      <td>S</td>\n    </tr>\n    <tr>\n      <th>3</th>\n      <td>4</td>\n      <td>1</td>\n      <td>1</td>\n      <td>Futrelle, Mrs. Jacques Heath (Lily May Peel)</td>\n      <td>female</td>\n      <td>35.0</td>\n      <td>1</td>\n      <td>0</td>\n      <td>113803</td>\n      <td>53.1000</td>\n      <td>C123</td>\n      <td>S</td>\n    </tr>\n    <tr>\n      <th>4</th>\n      <td>5</td>\n      <td>0</td>\n      <td>3</td>\n      <td>Allen, Mr. William Henry</td>\n      <td>male</td>\n      <td>35.0</td>\n      <td>0</td>\n      <td>0</td>\n      <td>373450</td>\n      <td>8.0500</td>\n      <td>None</td>\n      <td>S</td>\n    </tr>\n    <tr>\n      <th>...</th>\n      <td>...</td>\n      <td>...</td>\n      <td>...</td>\n      <td>...</td>\n      <td>...</td>\n      <td>...</td>\n      <td>...</td>\n      <td>...</td>\n      <td>...</td>\n      <td>...</td>\n      <td>...</td>\n      <td>...</td>\n    </tr>\n    <tr>\n      <th>886</th>\n      <td>887</td>\n      <td>0</td>\n      <td>2</td>\n      <td>Montvila, Rev. Juozas</td>\n      <td>male</td>\n      <td>27.0</td>\n      <td>0</td>\n      <td>0</td>\n      <td>211536</td>\n      <td>13.0000</td>\n      <td>None</td>\n      <td>S</td>\n    </tr>\n    <tr>\n      <th>887</th>\n      <td>888</td>\n      <td>1</td>\n      <td>1</td>\n      <td>Graham, Miss. Margaret Edith</td>\n      <td>female</td>\n      <td>19.0</td>\n      <td>0</td>\n      <td>0</td>\n      <td>112053</td>\n      <td>30.0000</td>\n      <td>B42</td>\n      <td>S</td>\n    </tr>\n    <tr>\n      <th>888</th>\n      <td>889</td>\n      <td>0</td>\n      <td>3</td>\n      <td>Johnston, Miss. Catherine Helen \"Carrie\"</td>\n      <td>female</td>\n      <td>NaN</td>\n      <td>1</td>\n      <td>2</td>\n      <td>W./C. 6607</td>\n      <td>23.4500</td>\n      <td>None</td>\n      <td>S</td>\n    </tr>\n    <tr>\n      <th>889</th>\n      <td>890</td>\n      <td>1</td>\n      <td>1</td>\n      <td>Behr, Mr. Karl Howell</td>\n      <td>male</td>\n      <td>26.0</td>\n      <td>0</td>\n      <td>0</td>\n      <td>111369</td>\n      <td>30.0000</td>\n      <td>C148</td>\n      <td>C</td>\n    </tr>\n    <tr>\n      <th>890</th>\n      <td>891</td>\n      <td>0</td>\n      <td>3</td>\n      <td>Dooley, Mr. Patrick</td>\n      <td>male</td>\n      <td>32.0</td>\n      <td>0</td>\n      <td>0</td>\n      <td>370376</td>\n      <td>7.7500</td>\n      <td>None</td>\n      <td>Q</td>\n    </tr>\n  </tbody>\n</table>\n<p>891 rows × 12 columns</p>\n</div>"
          },
          "metadata": {}
        }
      ],
      "execution_count": 4,
      "metadata": {
        "collapsed": true,
        "jupyter": {
          "source_hidden": false,
          "outputs_hidden": false
        },
        "nteract": {
          "transient": {
            "deleting": false
          }
        },
        "gather": {
          "logged": 1621187047394
        }
      }
    },
    {
      "cell_type": "code",
      "source": [
        "dataset = dataset.to_pandas_dataframe()\r\n",
        "print(dataset.shape)\r\n",
        "dataset.head(2)"
      ],
      "outputs": [
        {
          "output_type": "stream",
          "name": "stdout",
          "text": [
            "(891, 12)\n"
          ]
        },
        {
          "output_type": "execute_result",
          "execution_count": 5,
          "data": {
            "text/plain": "   PassengerId  Survived  Pclass  \\\n0            1         0       3   \n1            2         1       1   \n\n                                                Name     Sex   Age  SibSp  \\\n0                            Braund, Mr. Owen Harris    male  22.0      1   \n1  Cumings, Mrs. John Bradley (Florence Briggs Th...  female  38.0      1   \n\n   Parch     Ticket     Fare Cabin Embarked  \n0      0  A/5 21171   7.2500  None        S  \n1      0   PC 17599  71.2833   C85        C  ",
            "text/html": "<div>\n<style scoped>\n    .dataframe tbody tr th:only-of-type {\n        vertical-align: middle;\n    }\n\n    .dataframe tbody tr th {\n        vertical-align: top;\n    }\n\n    .dataframe thead th {\n        text-align: right;\n    }\n</style>\n<table border=\"1\" class=\"dataframe\">\n  <thead>\n    <tr style=\"text-align: right;\">\n      <th></th>\n      <th>PassengerId</th>\n      <th>Survived</th>\n      <th>Pclass</th>\n      <th>Name</th>\n      <th>Sex</th>\n      <th>Age</th>\n      <th>SibSp</th>\n      <th>Parch</th>\n      <th>Ticket</th>\n      <th>Fare</th>\n      <th>Cabin</th>\n      <th>Embarked</th>\n    </tr>\n  </thead>\n  <tbody>\n    <tr>\n      <th>0</th>\n      <td>1</td>\n      <td>0</td>\n      <td>3</td>\n      <td>Braund, Mr. Owen Harris</td>\n      <td>male</td>\n      <td>22.0</td>\n      <td>1</td>\n      <td>0</td>\n      <td>A/5 21171</td>\n      <td>7.2500</td>\n      <td>None</td>\n      <td>S</td>\n    </tr>\n    <tr>\n      <th>1</th>\n      <td>2</td>\n      <td>1</td>\n      <td>1</td>\n      <td>Cumings, Mrs. John Bradley (Florence Briggs Th...</td>\n      <td>female</td>\n      <td>38.0</td>\n      <td>1</td>\n      <td>0</td>\n      <td>PC 17599</td>\n      <td>71.2833</td>\n      <td>C85</td>\n      <td>C</td>\n    </tr>\n  </tbody>\n</table>\n</div>"
          },
          "metadata": {}
        }
      ],
      "execution_count": 5,
      "metadata": {
        "collapsed": true,
        "jupyter": {
          "source_hidden": false,
          "outputs_hidden": false
        },
        "nteract": {
          "transient": {
            "deleting": false
          }
        },
        "gather": {
          "logged": 1621187083867
        }
      }
    },
    {
      "cell_type": "code",
      "source": [
        "dataset['Age'].fillna(dataset['Age'].median(), inplace = True)\r\n",
        "dataset['Embarked'].fillna(dataset['Embarked'].mode()[0], inplace = True)\r\n",
        "dataset['Fare'].fillna(dataset['Fare'].median(), inplace = True)"
      ],
      "outputs": [],
      "execution_count": 6,
      "metadata": {
        "collapsed": true,
        "jupyter": {
          "source_hidden": false,
          "outputs_hidden": false
        },
        "nteract": {
          "transient": {
            "deleting": false
          }
        },
        "gather": {
          "logged": 1621187227758
        }
      }
    },
    {
      "cell_type": "code",
      "source": [
        "dataset.info()"
      ],
      "outputs": [
        {
          "output_type": "stream",
          "name": "stdout",
          "text": [
            "<class 'pandas.core.frame.DataFrame'>\n",
            "RangeIndex: 891 entries, 0 to 890\n",
            "Data columns (total 12 columns):\n",
            "PassengerId    891 non-null int64\n",
            "Survived       891 non-null int64\n",
            "Pclass         891 non-null int64\n",
            "Name           891 non-null object\n",
            "Sex            891 non-null object\n",
            "Age            891 non-null float64\n",
            "SibSp          891 non-null int64\n",
            "Parch          891 non-null int64\n",
            "Ticket         891 non-null object\n",
            "Fare           891 non-null float64\n",
            "Cabin          204 non-null object\n",
            "Embarked       891 non-null object\n",
            "dtypes: float64(2), int64(5), object(5)\n",
            "memory usage: 83.7+ KB\n"
          ]
        }
      ],
      "execution_count": 7,
      "metadata": {
        "collapsed": true,
        "jupyter": {
          "source_hidden": false,
          "outputs_hidden": false
        },
        "nteract": {
          "transient": {
            "deleting": false
          }
        },
        "gather": {
          "logged": 1621187237730
        }
      }
    },
    {
      "cell_type": "code",
      "source": [
        "drop_column = ['PassengerId','Cabin', 'Ticket','Name']\r\n",
        "dataset.drop(drop_column, axis=1, inplace = True)"
      ],
      "outputs": [],
      "execution_count": 9,
      "metadata": {
        "collapsed": true,
        "jupyter": {
          "source_hidden": false,
          "outputs_hidden": false
        },
        "nteract": {
          "transient": {
            "deleting": false
          }
        },
        "gather": {
          "logged": 1621187287514
        }
      }
    },
    {
      "cell_type": "code",
      "source": [
        "dataset['FamilySize'] = dataset ['SibSp'] + dataset['Parch'] + 1"
      ],
      "outputs": [],
      "execution_count": 12,
      "metadata": {
        "collapsed": true,
        "jupyter": {
          "source_hidden": false,
          "outputs_hidden": false
        },
        "nteract": {
          "transient": {
            "deleting": false
          }
        },
        "gather": {
          "logged": 1621187353707
        }
      }
    },
    {
      "cell_type": "code",
      "source": [
        "#Here we encode Sex in Rank\r\n",
        "dataset.loc[dataset['Sex'] == \"female\", 'Sex'] = 1\r\n",
        "dataset.loc[dataset['Sex'] == \"male\", 'Sex'] = 0"
      ],
      "outputs": [],
      "execution_count": 14,
      "metadata": {
        "collapsed": true,
        "jupyter": {
          "source_hidden": false,
          "outputs_hidden": false
        },
        "nteract": {
          "transient": {
            "deleting": false
          }
        },
        "gather": {
          "logged": 1621187460407
        }
      }
    },
    {
      "cell_type": "code",
      "source": [
        "#Here we encode Embarked in Rank\r\n",
        "dataset.loc[dataset['Embarked'] == \"C\", 'Embarked'] = 2\r\n",
        "dataset.loc[dataset['Embarked'] == \"Q\", 'Embarked'] = 1\r\n",
        "dataset.loc[dataset['Embarked'] == \"S\", 'Embarked'] = 0"
      ],
      "outputs": [],
      "execution_count": 15,
      "metadata": {
        "collapsed": true,
        "jupyter": {
          "source_hidden": false,
          "outputs_hidden": false
        },
        "nteract": {
          "transient": {
            "deleting": false
          }
        },
        "gather": {
          "logged": 1621187506051
        }
      }
    },
    {
      "cell_type": "code",
      "source": [
        "dataset.head(2)"
      ],
      "outputs": [
        {
          "output_type": "execute_result",
          "execution_count": 16,
          "data": {
            "text/plain": "   Survived  Pclass  Sex   Age  SibSp  Parch     Fare  Embarked  FamilySize\n0         0       3    0  22.0      1      0   7.2500         0           2\n1         1       1    1  38.0      1      0  71.2833         2           2",
            "text/html": "<div>\n<style scoped>\n    .dataframe tbody tr th:only-of-type {\n        vertical-align: middle;\n    }\n\n    .dataframe tbody tr th {\n        vertical-align: top;\n    }\n\n    .dataframe thead th {\n        text-align: right;\n    }\n</style>\n<table border=\"1\" class=\"dataframe\">\n  <thead>\n    <tr style=\"text-align: right;\">\n      <th></th>\n      <th>Survived</th>\n      <th>Pclass</th>\n      <th>Sex</th>\n      <th>Age</th>\n      <th>SibSp</th>\n      <th>Parch</th>\n      <th>Fare</th>\n      <th>Embarked</th>\n      <th>FamilySize</th>\n    </tr>\n  </thead>\n  <tbody>\n    <tr>\n      <th>0</th>\n      <td>0</td>\n      <td>3</td>\n      <td>0</td>\n      <td>22.0</td>\n      <td>1</td>\n      <td>0</td>\n      <td>7.2500</td>\n      <td>0</td>\n      <td>2</td>\n    </tr>\n    <tr>\n      <th>1</th>\n      <td>1</td>\n      <td>1</td>\n      <td>1</td>\n      <td>38.0</td>\n      <td>1</td>\n      <td>0</td>\n      <td>71.2833</td>\n      <td>2</td>\n      <td>2</td>\n    </tr>\n  </tbody>\n</table>\n</div>"
          },
          "metadata": {}
        }
      ],
      "execution_count": 16,
      "metadata": {
        "collapsed": true,
        "jupyter": {
          "source_hidden": false,
          "outputs_hidden": false
        },
        "nteract": {
          "transient": {
            "deleting": false
          }
        },
        "gather": {
          "logged": 1621187511594
        }
      }
    },
    {
      "cell_type": "code",
      "source": [
        "cpu_cluster_name = \"cpu-cluster\"\n",
        "\n",
        "# Check if the cluster exists. If there is an error, create the cluster\n",
        "try:\n",
        "    cpu_cluster = ComputeTarget(workspace=ws, name=cpu_cluster_name)\n",
        "    print('Found existing cluster, use it.')\n",
        "except ComputeTargetException:\n",
        "    compute_config = AmlCompute.provisioning_configuration(vm_size='STANDARD_DS11_V2',\n",
        "                                                            max_nodes=10)\n",
        "    cpu_cluster = ComputeTarget.create(ws, cpu_cluster_name, compute_config)\n",
        "    \n",
        "\n",
        "cpu_cluster.wait_for_completion(show_output=True)"
      ],
      "outputs": [
        {
          "output_type": "stream",
          "name": "stdout",
          "text": [
            "Creating...\n",
            "SucceededProvisioning operation finished, operation \"Succeeded\"\n",
            "Succeeded\n",
            "AmlCompute wait for completion finished\n",
            "\n",
            "Minimum number of nodes requested have been provisioned\n"
          ]
        }
      ],
      "execution_count": 17,
      "metadata": {
        "gather": {
          "logged": 1621187585374
        },
        "jupyter": {
          "outputs_hidden": false,
          "source_hidden": false
        },
        "nteract": {
          "transient": {
            "deleting": false
          }
        }
      }
    },
    {
      "cell_type": "code",
      "source": [
        "\r\n",
        "# split data into training and test data\r\n",
        "from sklearn.model_selection import train_test_split\r\n",
        "train_data, test_data = train_test_split(dataset,test_size=0.25)\r\n",
        "train_data.head()"
      ],
      "outputs": [
        {
          "output_type": "execute_result",
          "execution_count": 18,
          "data": {
            "text/plain": "     Survived  Pclass  Sex   Age  SibSp  Parch     Fare  Embarked  FamilySize\n703         0       3    0  25.0      0      0   7.7417         1           1\n256         1       1    1  28.0      0      0  79.2000         2           1\n81          1       3    0  29.0      0      0   9.5000         0           1\n64          0       1    0  28.0      0      0  27.7208         2           1\n707         1       1    0  42.0      0      0  26.2875         0           1",
            "text/html": "<div>\n<style scoped>\n    .dataframe tbody tr th:only-of-type {\n        vertical-align: middle;\n    }\n\n    .dataframe tbody tr th {\n        vertical-align: top;\n    }\n\n    .dataframe thead th {\n        text-align: right;\n    }\n</style>\n<table border=\"1\" class=\"dataframe\">\n  <thead>\n    <tr style=\"text-align: right;\">\n      <th></th>\n      <th>Survived</th>\n      <th>Pclass</th>\n      <th>Sex</th>\n      <th>Age</th>\n      <th>SibSp</th>\n      <th>Parch</th>\n      <th>Fare</th>\n      <th>Embarked</th>\n      <th>FamilySize</th>\n    </tr>\n  </thead>\n  <tbody>\n    <tr>\n      <th>703</th>\n      <td>0</td>\n      <td>3</td>\n      <td>0</td>\n      <td>25.0</td>\n      <td>0</td>\n      <td>0</td>\n      <td>7.7417</td>\n      <td>1</td>\n      <td>1</td>\n    </tr>\n    <tr>\n      <th>256</th>\n      <td>1</td>\n      <td>1</td>\n      <td>1</td>\n      <td>28.0</td>\n      <td>0</td>\n      <td>0</td>\n      <td>79.2000</td>\n      <td>2</td>\n      <td>1</td>\n    </tr>\n    <tr>\n      <th>81</th>\n      <td>1</td>\n      <td>3</td>\n      <td>0</td>\n      <td>29.0</td>\n      <td>0</td>\n      <td>0</td>\n      <td>9.5000</td>\n      <td>0</td>\n      <td>1</td>\n    </tr>\n    <tr>\n      <th>64</th>\n      <td>0</td>\n      <td>1</td>\n      <td>0</td>\n      <td>28.0</td>\n      <td>0</td>\n      <td>0</td>\n      <td>27.7208</td>\n      <td>2</td>\n      <td>1</td>\n    </tr>\n    <tr>\n      <th>707</th>\n      <td>1</td>\n      <td>1</td>\n      <td>0</td>\n      <td>42.0</td>\n      <td>0</td>\n      <td>0</td>\n      <td>26.2875</td>\n      <td>0</td>\n      <td>1</td>\n    </tr>\n  </tbody>\n</table>\n</div>"
          },
          "metadata": {}
        }
      ],
      "execution_count": 18,
      "metadata": {
        "collapsed": true,
        "jupyter": {
          "source_hidden": false,
          "outputs_hidden": false
        },
        "nteract": {
          "transient": {
            "deleting": false
          }
        },
        "gather": {
          "logged": 1621187629499
        }
      }
    },
    {
      "cell_type": "code",
      "source": [
        "\r\n",
        "# Save training data to a csv file \r\n",
        "train_data.to_csv(\"titanic_traindata.csv\")"
      ],
      "outputs": [],
      "execution_count": 19,
      "metadata": {
        "collapsed": true,
        "jupyter": {
          "source_hidden": false,
          "outputs_hidden": false
        },
        "nteract": {
          "transient": {
            "deleting": false
          }
        },
        "gather": {
          "logged": 1621187667938
        }
      }
    },
    {
      "cell_type": "code",
      "source": [
        "data_store = ws.get_default_datastore()\r\n",
        "data_store.upload(src_dir='./',target_path='./')\r\n",
        "ftrain_data = Dataset.Tabular.from_delimited_files(path = [(data_store, './titanic_traindata.csv')])"
      ],
      "outputs": [
        {
          "output_type": "stream",
          "name": "stdout",
          "text": [
            "Uploading an estimated of 7 files\n",
            "Uploading ./.amlignore\n",
            "Uploaded ./.amlignore, 1 files out of an estimated total of 7\n",
            "Uploading ./.amlignore.amltmp\n",
            "Uploaded ./.amlignore.amltmp, 2 files out of an estimated total of 7\n",
            "Uploading ./automl.ipynb\n",
            "Uploaded ./automl.ipynb, 3 files out of an estimated total of 7\n",
            "Uploading ./automl.ipynb.amltmp\n",
            "Uploaded ./automl.ipynb.amltmp, 4 files out of an estimated total of 7\n",
            "Uploading ./hyperparameter_tuning.ipynb\n",
            "Uploaded ./hyperparameter_tuning.ipynb, 5 files out of an estimated total of 7\n",
            "Uploading ./titanic_traindata.csv\n",
            "Uploaded ./titanic_traindata.csv, 6 files out of an estimated total of 7\n",
            "Uploading ./.ipynb_aml_checkpoints/automl-checkpoint2021-4-16-17-38-13.ipynb\n",
            "Uploaded ./.ipynb_aml_checkpoints/automl-checkpoint2021-4-16-17-38-13.ipynb, 7 files out of an estimated total of 7\n",
            "Uploaded 7 files\n"
          ]
        }
      ],
      "execution_count": 20,
      "metadata": {
        "collapsed": true,
        "jupyter": {
          "source_hidden": false,
          "outputs_hidden": false
        },
        "nteract": {
          "transient": {
            "deleting": false
          }
        },
        "gather": {
          "logged": 1621187699617
        }
      }
    },
    {
      "cell_type": "code",
      "source": [
        "\r\n",
        "temp = ftrain_data.drop_columns('Column1')"
      ],
      "outputs": [],
      "execution_count": 21,
      "metadata": {
        "collapsed": true,
        "jupyter": {
          "source_hidden": false,
          "outputs_hidden": false
        },
        "nteract": {
          "transient": {
            "deleting": false
          }
        },
        "gather": {
          "logged": 1621187963190
        }
      }
    },
    {
      "cell_type": "code",
      "source": [
        "temp"
      ],
      "outputs": [
        {
          "output_type": "execute_result",
          "execution_count": 24,
          "data": {
            "text/plain": "{\n  \"source\": [\n    \"('workspaceblobstore', './titanic_traindata.csv')\"\n  ],\n  \"definition\": [\n    \"GetDatastoreFiles\",\n    \"ParseDelimited\",\n    \"DropColumns\",\n    \"SetColumnTypes\",\n    \"DropColumns\"\n  ]\n}"
          },
          "metadata": {}
        }
      ],
      "execution_count": 24,
      "metadata": {
        "collapsed": true,
        "jupyter": {
          "source_hidden": false,
          "outputs_hidden": false
        },
        "nteract": {
          "transient": {
            "deleting": false
          }
        },
        "gather": {
          "logged": 1621188019326
        }
      }
    },
    {
      "cell_type": "markdown",
      "source": [
        "## AutoML Configuration\n",
        "\n",
        "We set the AutoML settings and configuration. Since I am using the class lab provided, I only have a limited amount of time to wait for a run and limited resources, so we set the max_concurrent_iterations to 5 and the timeout to 30 minutes.\n",
        "\n",
        "We also define a 'classification' task, auto featurization from AutoML, our primary metric as 'accuracy', and specify the dataset and the 'Survive' column from the dataset as the label column."
      ],
      "metadata": {}
    },
    {
      "cell_type": "code",
      "source": [
        "# TODO: Put your automl settings here\n",
        "automl_settings =  {\n",
        "    \"experiment_timeout_minutes\": 30,\n",
        "    \"max_concurrent_iterations\": 5,\n",
        "    \"primary_metric\" : 'accuracy',\n",
        "    \"n_cross_validations\": 3,\n",
        "    \"enable_early_stopping\": True,\n",
        "    \"featurization\": 'auto'\n",
        "}\n",
        "# TODO: Put your automl config here\n",
        "automl_config = AutoMLConfig(\n",
        "                    task=\"classification\",\n",
        "                    training_data=temp,\n",
        "                    label_column_name=\"Survived\",\n",
        "                    compute_target=cpu_cluster,\n",
        "                    **automl_settings)"
      ],
      "outputs": [],
      "execution_count": 25,
      "metadata": {
        "gather": {
          "logged": 1621188064232
        },
        "jupyter": {
          "outputs_hidden": false,
          "source_hidden": false
        },
        "nteract": {
          "transient": {
            "deleting": false
          }
        }
      }
    },
    {
      "cell_type": "code",
      "source": [
        "# TODO: Submit your experiment\n",
        "remote_run = experiment.submit(automl_config, show_output = True)"
      ],
      "outputs": [
        {
          "output_type": "stream",
          "name": "stdout",
          "text": [
            "Submitting remote run.\n",
            "No run_configuration provided, running on cpu-cluster with default configuration\n",
            "Running on remote compute: cpu-cluster\n"
          ]
        },
        {
          "output_type": "display_data",
          "data": {
            "text/plain": "<IPython.core.display.HTML object>",
            "text/html": "<table style=\"width:100%\"><tr><th>Experiment</th><th>Id</th><th>Type</th><th>Status</th><th>Details Page</th><th>Docs Page</th></tr><tr><td>automl_experiment</td><td>AutoML_d0d8bb1f-c6d5-48c2-9de9-4acdea4dedf0</td><td>automl</td><td>NotStarted</td><td><a href=\"https://ml.azure.com/runs/AutoML_d0d8bb1f-c6d5-48c2-9de9-4acdea4dedf0?wsid=/subscriptions/d4ad7261-832d-46b2-b093-22156001df5b/resourcegroups/aml-quickstarts-144979/workspaces/quick-starts-ws-144979&amp;tid=660b3398-b80e-49d2-bc5b-ac1dc93b5254\" target=\"_blank\" rel=\"noopener\">Link to Azure Machine Learning studio</a></td><td><a href=\"https://docs.microsoft.com/en-us/python/api/overview/azure/ml/intro?view=azure-ml-py\" target=\"_blank\" rel=\"noopener\">Link to Documentation</a></td></tr></table>"
          },
          "metadata": {}
        },
        {
          "output_type": "stream",
          "name": "stdout",
          "text": [
            "\n",
            "Current status: FeaturesGeneration. Generating features for the dataset.\n",
            "Current status: DatasetCrossValidationSplit. Generating individually featurized CV splits.\n",
            "Current status: ModelSelection. Beginning model selection.\n",
            "\n",
            "****************************************************************************************************\n",
            "DATA GUARDRAILS: \n",
            "\n",
            "TYPE:         Class balancing detection\n",
            "STATUS:       PASSED\n",
            "DESCRIPTION:  Your inputs were analyzed, and all classes are balanced in your training data.\n",
            "              Learn more about imbalanced data: https://aka.ms/AutomatedMLImbalancedData\n",
            "\n",
            "****************************************************************************************************\n",
            "\n",
            "TYPE:         Missing feature values imputation\n",
            "STATUS:       PASSED\n",
            "DESCRIPTION:  No feature missing values were detected in the training data.\n",
            "              Learn more about missing value imputation: https://aka.ms/AutomatedMLFeaturization\n",
            "\n",
            "****************************************************************************************************\n",
            "\n",
            "TYPE:         High cardinality feature detection\n",
            "STATUS:       PASSED\n",
            "DESCRIPTION:  Your inputs were analyzed, and no high cardinality features were detected.\n",
            "              Learn more about high cardinality feature handling: https://aka.ms/AutomatedMLFeaturization\n",
            "\n",
            "****************************************************************************************************\n",
            "\n",
            "****************************************************************************************************\n",
            "ITERATION: The iteration being evaluated.\n",
            "PIPELINE: A summary description of the pipeline being evaluated.\n",
            "DURATION: Time taken for the current iteration.\n",
            "METRIC: The result of computing score on the fitted pipeline.\n",
            "BEST: The best observed score thus far.\n",
            "****************************************************************************************************\n",
            "\n",
            " ITERATION   PIPELINE                                       DURATION      METRIC      BEST\n",
            "         4   MaxAbsScaler RandomForest                      0:00:44       0.8024    0.8024\n",
            "         3   MaxAbsScaler RandomForest                      0:00:43       0.8069    0.8069\n",
            "         2   MaxAbsScaler RandomForest                      0:00:45       0.7829    0.8069\n",
            "         7   SparseNormalizer XGBoostClassifier             0:00:42       0.7994    0.8069\n",
            "         1   MaxAbsScaler XGBoostClassifier                 0:01:57       0.8024    0.8069\n",
            "         5   MaxAbsScaler RandomForest                      0:02:04       0.7679    0.8069\n",
            "         8   MaxAbsScaler RandomForest                      0:00:43       0.7784    0.8069\n",
            "         6   SparseNormalizer XGBoostClassifier             0:02:10       0.7964    0.8069\n",
            "         0   MaxAbsScaler LightGBM                          0:02:39       0.8234    0.8234\n",
            "        10   SparseNormalizer XGBoostClassifier             0:00:41       0.7979    0.8234\n",
            "         9   SparseNormalizer LightGBM                      0:00:42       0.8009    0.8234\n",
            "        11   SparseNormalizer XGBoostClassifier             0:00:50       0.8009    0.8234\n",
            "        12   MaxAbsScaler LogisticRegression                0:00:40       0.8204    0.8234\n",
            "        13   MaxAbsScaler RandomForest                      0:00:46       0.7920    0.8234\n",
            "        14   SparseNormalizer XGBoostClassifier             0:00:39       0.8039    0.8234\n",
            "        15   StandardScalerWrapper LogisticRegression       0:00:44       0.8144    0.8234\n",
            "        16   MaxAbsScaler LightGBM                          0:00:40       0.7904    0.8234\n",
            "        17   StandardScalerWrapper RandomForest             0:00:43       0.7859    0.8234\n",
            "        18   MaxAbsScaler LogisticRegression                0:00:48       0.8144    0.8234\n",
            "        19   StandardScalerWrapper GradientBoosting         0:00:44       0.7814    0.8234\n",
            "        20   StandardScalerWrapper LightGBM                 0:00:43       0.8054    0.8234\n",
            "        21   SparseNormalizer XGBoostClassifier             0:00:42       0.8069    0.8234\n",
            "        22   SparseNormalizer LightGBM                      0:00:43       0.8009    0.8234\n",
            "        23   SparseNormalizer XGBoostClassifier             0:00:45       0.8099    0.8234\n",
            "        24   StandardScalerWrapper XGBoostClassifier        0:00:43       0.7920    0.8234\n",
            "        26   MaxAbsScaler LightGBM                          0:00:41       0.8159    0.8234\n",
            "        27   MaxAbsScaler LightGBM                          0:00:40       0.7994    0.8234\n",
            "        25   MaxAbsScaler LightGBM                          0:01:05       0.7815    0.8234\n",
            "        28   SparseNormalizer XGBoostClassifier             0:00:43       0.8039    0.8234\n",
            "        29   StandardScalerWrapper LightGBM                 0:00:43       0.7215    0.8234\n",
            "        30   StandardScalerWrapper LightGBM                 0:00:43       0.6168    0.8234\n",
            "        31   StandardScalerWrapper LightGBM                 0:00:41       0.7829    0.8234\n",
            "        32   StandardScalerWrapper XGBoostClassifier        0:00:45       0.7994    0.8234\n",
            "        33   StandardScalerWrapper XGBoostClassifier        0:00:44       0.7845    0.8234\n",
            "        34   SparseNormalizer ExtremeRandomTrees            0:00:43       0.7919    0.8234\n",
            "        35   MaxAbsScaler LightGBM                          0:00:25       0.8159    0.8234\n",
            "        36   MaxAbsScaler LogisticRegression                0:00:27       0.7934    0.8234\n",
            "        37                                                  0:00:15          nan    0.8234\n",
            "        38    VotingEnsemble                                0:00:53       0.8294    0.8294\n",
            "        39    StackEnsemble                                 0:00:59       0.8129    0.8294\n"
          ]
        }
      ],
      "execution_count": 26,
      "metadata": {
        "gather": {
          "logged": 1621189281231
        },
        "jupyter": {
          "outputs_hidden": false,
          "source_hidden": false
        },
        "nteract": {
          "transient": {
            "deleting": false
          }
        }
      }
    },
    {
      "cell_type": "markdown",
      "source": [
        "## Run Details\n",
        "\n",
        "OPTIONAL: Write about the different models trained and their performance. Why do you think some models did better than others?\n",
        "\n"
      ],
      "metadata": {}
    },
    {
      "cell_type": "code",
      "source": [
        "#TODO: In the cell below, use the `RunDetails` widget to show the different experiments.\r\n",
        "from azureml.widgets import RunDetails\r\n",
        "RunDetails(remote_run).show()\r\n",
        "remote_run.wait_for_completion(show_output=True)"
      ],
      "outputs": [
        {
          "output_type": "display_data",
          "data": {
            "text/plain": "_AutoMLWidget(widget_settings={'childWidgetDisplay': 'popup', 'send_telemetry': False, 'log_level': 'INFO', 's…",
            "application/vnd.jupyter.widget-view+json": {
              "version_major": 2,
              "version_minor": 0,
              "model_id": "ef507c685e5342178766513d53fa6701"
            }
          },
          "metadata": {}
        },
        {
          "output_type": "display_data",
          "data": {
            "application/aml.mini.widget.v1": "{\"status\": \"Completed\", \"workbench_run_details_uri\": \"https://ml.azure.com/runs/AutoML_d0d8bb1f-c6d5-48c2-9de9-4acdea4dedf0?wsid=/subscriptions/d4ad7261-832d-46b2-b093-22156001df5b/resourcegroups/aml-quickstarts-144979/workspaces/quick-starts-ws-144979&tid=660b3398-b80e-49d2-bc5b-ac1dc93b5254\", \"run_id\": \"AutoML_d0d8bb1f-c6d5-48c2-9de9-4acdea4dedf0\", \"run_properties\": {\"run_id\": \"AutoML_d0d8bb1f-c6d5-48c2-9de9-4acdea4dedf0\", \"created_utc\": \"2021-05-16T18:01:14.613953Z\", \"properties\": {\"num_iterations\": \"1000\", \"training_type\": \"TrainFull\", \"acquisition_function\": \"EI\", \"primary_metric\": \"accuracy\", \"train_split\": \"0\", \"acquisition_parameter\": \"0\", \"num_cross_validation\": \"3\", \"target\": \"cpu-cluster\", \"AMLSettingsJsonString\": \"{\\\"path\\\":null,\\\"name\\\":\\\"automl_experiment\\\",\\\"subscription_id\\\":\\\"d4ad7261-832d-46b2-b093-22156001df5b\\\",\\\"resource_group\\\":\\\"aml-quickstarts-144979\\\",\\\"workspace_name\\\":\\\"quick-starts-ws-144979\\\",\\\"region\\\":\\\"southcentralus\\\",\\\"compute_target\\\":\\\"cpu-cluster\\\",\\\"spark_service\\\":null,\\\"azure_service\\\":\\\"remote\\\",\\\"many_models\\\":false,\\\"pipeline_fetch_max_batch_size\\\":1,\\\"enable_batch_run\\\":false,\\\"enable_run_restructure\\\":false,\\\"start_auxiliary_runs_before_parent_complete\\\":false,\\\"iterations\\\":1000,\\\"primary_metric\\\":\\\"accuracy\\\",\\\"task_type\\\":\\\"classification\\\",\\\"data_script\\\":null,\\\"test_size\\\":0.0,\\\"validation_size\\\":0.0,\\\"n_cross_validations\\\":3,\\\"y_min\\\":null,\\\"y_max\\\":null,\\\"num_classes\\\":null,\\\"featurization\\\":\\\"auto\\\",\\\"_ignore_package_version_incompatibilities\\\":false,\\\"is_timeseries\\\":false,\\\"max_cores_per_iteration\\\":1,\\\"max_concurrent_iterations\\\":5,\\\"iteration_timeout_minutes\\\":null,\\\"mem_in_mb\\\":null,\\\"enforce_time_on_windows\\\":false,\\\"experiment_timeout_minutes\\\":30,\\\"experiment_exit_score\\\":null,\\\"whitelist_models\\\":null,\\\"blacklist_algos\\\":[\\\"TensorFlowLinearClassifier\\\",\\\"TensorFlowDNN\\\"],\\\"supported_models\\\":[\\\"LinearSVM\\\",\\\"MultinomialNaiveBayes\\\",\\\"LightGBM\\\",\\\"ExtremeRandomTrees\\\",\\\"AveragedPerceptronClassifier\\\",\\\"SGD\\\",\\\"DecisionTree\\\",\\\"GradientBoosting\\\",\\\"TensorFlowLinearClassifier\\\",\\\"LogisticRegression\\\",\\\"SVM\\\",\\\"BernoulliNaiveBayes\\\",\\\"XGBoostClassifier\\\",\\\"KNN\\\",\\\"TensorFlowDNN\\\",\\\"RandomForest\\\"],\\\"private_models\\\":[],\\\"auto_blacklist\\\":true,\\\"blacklist_samples_reached\\\":false,\\\"exclude_nan_labels\\\":true,\\\"verbosity\\\":20,\\\"_debug_log\\\":\\\"azureml_automl.log\\\",\\\"show_warnings\\\":false,\\\"model_explainability\\\":true,\\\"service_url\\\":null,\\\"sdk_url\\\":null,\\\"sdk_packages\\\":null,\\\"enable_onnx_compatible_models\\\":false,\\\"enable_split_onnx_featurizer_estimator_models\\\":false,\\\"vm_type\\\":\\\"STANDARD_DS11_V2\\\",\\\"telemetry_verbosity\\\":20,\\\"send_telemetry\\\":true,\\\"enable_dnn\\\":false,\\\"scenario\\\":\\\"SDK-1.13.0\\\",\\\"environment_label\\\":null,\\\"save_mlflow\\\":false,\\\"force_text_dnn\\\":false,\\\"enable_feature_sweeping\\\":true,\\\"enable_early_stopping\\\":true,\\\"early_stopping_n_iters\\\":10,\\\"metrics\\\":null,\\\"enable_metric_confidence\\\":false,\\\"enable_ensembling\\\":true,\\\"enable_stack_ensembling\\\":true,\\\"ensemble_iterations\\\":15,\\\"enable_tf\\\":false,\\\"enable_subsampling\\\":null,\\\"subsample_seed\\\":null,\\\"enable_nimbusml\\\":false,\\\"enable_streaming\\\":false,\\\"force_streaming\\\":false,\\\"track_child_runs\\\":true,\\\"allowed_private_models\\\":[],\\\"label_column_name\\\":\\\"Survived\\\",\\\"weight_column_name\\\":null,\\\"cv_split_column_names\\\":null,\\\"enable_local_managed\\\":false,\\\"_local_managed_run_id\\\":null,\\\"cost_mode\\\":1,\\\"lag_length\\\":0,\\\"metric_operation\\\":\\\"maximize\\\",\\\"preprocess\\\":true}\", \"DataPrepJsonString\": \"{\\\\\\\"training_data\\\\\\\": {\\\\\\\"datasetId\\\\\\\": \\\\\\\"eec1bbcc-b815-4a1a-8e20-b7c607c485cf\\\\\\\"}, \\\\\\\"datasets\\\\\\\": 0}\", \"EnableSubsampling\": null, \"runTemplate\": \"AutoML\", \"azureml.runsource\": \"automl\", \"display_task_type\": \"classification\", \"dependencies_versions\": \"{\\\"azureml-widgets\\\": \\\"1.27.0\\\", \\\"azureml-train\\\": \\\"1.27.0\\\", \\\"azureml-train-restclients-hyperdrive\\\": \\\"1.27.0\\\", \\\"azureml-train-core\\\": \\\"1.27.0\\\", \\\"azureml-train-automl\\\": \\\"1.27.0\\\", \\\"azureml-train-automl-runtime\\\": \\\"1.27.0\\\", \\\"azureml-train-automl-client\\\": \\\"1.27.0\\\", \\\"azureml-tensorboard\\\": \\\"1.27.0\\\", \\\"azureml-telemetry\\\": \\\"1.27.0\\\", \\\"azureml-sdk\\\": \\\"1.27.0\\\", \\\"azureml-samples\\\": \\\"0+unknown\\\", \\\"azureml-pipeline\\\": \\\"1.27.0\\\", \\\"azureml-pipeline-steps\\\": \\\"1.27.0\\\", \\\"azureml-pipeline-core\\\": \\\"1.27.0\\\", \\\"azureml-opendatasets\\\": \\\"1.27.0\\\", \\\"azureml-model-management-sdk\\\": \\\"1.0.1b6.post1\\\", \\\"azureml-mlflow\\\": \\\"1.27.0\\\", \\\"azureml-interpret\\\": \\\"1.27.0\\\", \\\"azureml-explain-model\\\": \\\"1.27.0\\\", \\\"azureml-defaults\\\": \\\"1.27.0\\\", \\\"azureml-dataset-runtime\\\": \\\"1.27.0\\\", \\\"azureml-dataprep\\\": \\\"2.14.2\\\", \\\"azureml-dataprep-rslex\\\": \\\"1.12.1\\\", \\\"azureml-dataprep-native\\\": \\\"33.0.0\\\", \\\"azureml-datadrift\\\": \\\"1.27.0\\\", \\\"azureml-core\\\": \\\"1.27.0\\\", \\\"azureml-contrib-services\\\": \\\"1.27.0\\\", \\\"azureml-contrib-server\\\": \\\"1.27.0\\\", \\\"azureml-contrib-reinforcementlearning\\\": \\\"1.27.0\\\", \\\"azureml-contrib-pipeline-steps\\\": \\\"1.27.0\\\", \\\"azureml-contrib-notebook\\\": \\\"1.27.0\\\", \\\"azureml-contrib-gbdt\\\": \\\"1.27.0\\\", \\\"azureml-contrib-fairness\\\": \\\"1.27.0\\\", \\\"azureml-contrib-dataset\\\": \\\"1.27.0\\\", \\\"azureml-cli-common\\\": \\\"1.27.0\\\", \\\"azureml-automl-runtime\\\": \\\"1.27.0\\\", \\\"azureml-automl-dnn-nlp\\\": \\\"1.27.0\\\", \\\"azureml-automl-core\\\": \\\"1.27.0\\\", \\\"azureml-accel-models\\\": \\\"1.27.0\\\"}\", \"_aml_system_scenario_identification\": \"Remote.Parent\", \"ClientType\": \"SDK\", \"environment_cpu_name\": \"AzureML-AutoML\", \"environment_cpu_label\": \"prod\", \"environment_gpu_name\": \"AzureML-AutoML-GPU\", \"environment_gpu_label\": \"prod\", \"root_attribution\": \"automl\", \"attribution\": \"AutoML\", \"Orchestrator\": \"AutoML\", \"CancelUri\": \"https://southcentralus.api.azureml.ms/jasmine/v1.0/subscriptions/d4ad7261-832d-46b2-b093-22156001df5b/resourceGroups/aml-quickstarts-144979/providers/Microsoft.MachineLearningServices/workspaces/quick-starts-ws-144979/experimentids/003c0a1d-92d8-43ae-97fe-faef4156b0eb/cancel/AutoML_d0d8bb1f-c6d5-48c2-9de9-4acdea4dedf0\", \"ClientSdkVersion\": \"1.27.0.post1\", \"snapshotId\": \"00000000-0000-0000-0000-000000000000\", \"SetupRunId\": \"AutoML_d0d8bb1f-c6d5-48c2-9de9-4acdea4dedf0_setup\", \"SetupRunContainerId\": \"dcid.AutoML_d0d8bb1f-c6d5-48c2-9de9-4acdea4dedf0_setup\", \"FeaturizationRunJsonPath\": \"featurizer_container.json\", \"FeaturizationRunId\": \"AutoML_d0d8bb1f-c6d5-48c2-9de9-4acdea4dedf0_featurize\", \"ProblemInfoJsonString\": \"{\\\"dataset_num_categorical\\\": 0, \\\"is_sparse\\\": true, \\\"subsampling\\\": false, \\\"dataset_classes\\\": 2, \\\"dataset_features\\\": 32, \\\"dataset_samples\\\": 668, \\\"single_frequency_class_detected\\\": false}\", \"ModelExplainRunId\": \"AutoML_d0d8bb1f-c6d5-48c2-9de9-4acdea4dedf0_ModelExplain\"}, \"tags\": {\"model_explain_run\": \"best_run\", \"_aml_system_azureml.automlComponent\": \"AutoML\", \"pipeline_id\": \"\", \"score\": \"\", \"predicted_cost\": \"\", \"fit_time\": \"\", \"training_percent\": \"\", \"iteration\": \"\", \"run_preprocessor\": \"\", \"run_algorithm\": \"\", \"dynamic_whitelisting_iterations\": \"<25>;<30>;<35>;\", \"automl_best_child_run_id\": \"AutoML_d0d8bb1f-c6d5-48c2-9de9-4acdea4dedf0_38\", \"model_explain_best_run_child_id\": \"AutoML_d0d8bb1f-c6d5-48c2-9de9-4acdea4dedf0_38\"}, \"end_time_utc\": \"2021-05-16T18:21:05.201505Z\", \"status\": \"Completed\", \"log_files\": {}, \"log_groups\": [], \"run_duration\": \"0:19:50\", \"run_number\": \"1\", \"run_queued_details\": {\"status\": \"Completed\", \"details\": null}}, \"child_runs\": [{\"run_id\": \"AutoML_d0d8bb1f-c6d5-48c2-9de9-4acdea4dedf0_4\", \"run_number\": 5, \"metric\": null, \"status\": \"Completed\", \"run_type\": \"azureml.scriptrun\", \"training_percent\": \"100\", \"start_time\": \"2021-05-16T18:09:31.819862Z\", \"end_time\": \"2021-05-16T18:10:15.805017Z\", \"created_time\": \"2021-05-16T18:09:15.389276Z\", \"created_time_dt\": \"2021-05-16T18:09:15.389276Z\", \"duration\": \"0:01:00\", \"iteration\": \"4\", \"goal\": \"accuracy_max\", \"run_name\": \"MaxAbsScaler, RandomForest\", \"run_properties\": \"copy=True\", \"primary_metric\": 0.80235392, \"best_metric\": 0.82335474}, {\"run_id\": \"AutoML_d0d8bb1f-c6d5-48c2-9de9-4acdea4dedf0_1\", \"run_number\": 6, \"metric\": null, \"status\": \"Completed\", \"run_type\": \"azureml.scriptrun\", \"training_percent\": \"100\", \"start_time\": \"2021-05-16T18:12:13.29572Z\", \"end_time\": \"2021-05-16T18:14:10.716093Z\", \"created_time\": \"2021-05-16T18:09:15.395329Z\", \"created_time_dt\": \"2021-05-16T18:09:15.395329Z\", \"duration\": \"0:04:55\", \"iteration\": \"1\", \"goal\": \"accuracy_max\", \"run_name\": \"MaxAbsScaler, XGBoostClassifier\", \"run_properties\": \"copy=True\", \"primary_metric\": 0.80240106, \"best_metric\": 0.82335474}, {\"run_id\": \"AutoML_d0d8bb1f-c6d5-48c2-9de9-4acdea4dedf0_3\", \"run_number\": 7, \"metric\": null, \"status\": \"Completed\", \"run_type\": \"azureml.scriptrun\", \"training_percent\": \"100\", \"start_time\": \"2021-05-16T18:10:34.26961Z\", \"end_time\": \"2021-05-16T18:11:16.805901Z\", \"created_time\": \"2021-05-16T18:09:15.403248Z\", \"created_time_dt\": \"2021-05-16T18:09:15.403248Z\", \"duration\": \"0:02:01\", \"iteration\": \"3\", \"goal\": \"accuracy_max\", \"run_name\": \"MaxAbsScaler, RandomForest\", \"run_properties\": \"copy=True\", \"primary_metric\": 0.80689883, \"best_metric\": 0.82335474}, {\"run_id\": \"AutoML_d0d8bb1f-c6d5-48c2-9de9-4acdea4dedf0_2\", \"run_number\": 8, \"metric\": null, \"status\": \"Completed\", \"run_type\": \"azureml.scriptrun\", \"training_percent\": \"100\", \"start_time\": \"2021-05-16T18:11:32.881319Z\", \"end_time\": \"2021-05-16T18:12:17.496433Z\", \"created_time\": \"2021-05-16T18:09:15.4335Z\", \"created_time_dt\": \"2021-05-16T18:09:15.4335Z\", \"duration\": \"0:03:02\", \"iteration\": \"2\", \"goal\": \"accuracy_max\", \"run_name\": \"MaxAbsScaler, RandomForest\", \"run_properties\": \"copy=True\", \"primary_metric\": 0.7829152, \"best_metric\": 0.82335474}, {\"run_id\": \"AutoML_d0d8bb1f-c6d5-48c2-9de9-4acdea4dedf0_0\", \"run_number\": 9, \"metric\": null, \"status\": \"Completed\", \"run_type\": \"azureml.scriptrun\", \"training_percent\": \"100\", \"start_time\": \"2021-05-16T18:12:13.430665Z\", \"end_time\": \"2021-05-16T18:14:52.11498Z\", \"created_time\": \"2021-05-16T18:09:15.424436Z\", \"created_time_dt\": \"2021-05-16T18:09:15.424436Z\", \"duration\": \"0:05:36\", \"iteration\": \"0\", \"goal\": \"accuracy_max\", \"run_name\": \"MaxAbsScaler, LightGBM\", \"run_properties\": \"copy=True\", \"primary_metric\": 0.82335474, \"best_metric\": 0.82335474}, {\"run_id\": \"AutoML_d0d8bb1f-c6d5-48c2-9de9-4acdea4dedf0_5\", \"run_number\": 10, \"metric\": null, \"status\": \"Completed\", \"run_type\": \"azureml.scriptrun\", \"training_percent\": \"100\", \"start_time\": \"2021-05-16T18:12:12.22972Z\", \"end_time\": \"2021-05-16T18:14:16.257901Z\", \"created_time\": \"2021-05-16T18:10:22.375646Z\", \"created_time_dt\": \"2021-05-16T18:10:22.375646Z\", \"duration\": \"0:03:53\", \"iteration\": \"5\", \"goal\": \"accuracy_max\", \"run_name\": \"MaxAbsScaler, RandomForest\", \"run_properties\": \"copy=True\", \"primary_metric\": 0.76787999, \"best_metric\": 0.82335474}, {\"run_id\": \"AutoML_d0d8bb1f-c6d5-48c2-9de9-4acdea4dedf0_6\", \"run_number\": 11, \"metric\": null, \"status\": \"Completed\", \"run_type\": \"azureml.scriptrun\", \"training_percent\": \"100\", \"start_time\": \"2021-05-16T18:12:16.27016Z\", \"end_time\": \"2021-05-16T18:14:26.049151Z\", \"created_time\": \"2021-05-16T18:11:19.09964Z\", \"created_time_dt\": \"2021-05-16T18:11:19.09964Z\", \"duration\": \"0:03:06\", \"iteration\": \"6\", \"goal\": \"accuracy_max\", \"run_name\": \"SparseNormalizer, XGBoostClassifier\", \"run_properties\": \"<azureml.automl.runtime.shared.model_wrappers.SparseNormalizer object at 0x7ff1f9f66b70\", \"primary_metric\": 0.79641525, \"best_metric\": 0.82335474}, {\"run_id\": \"AutoML_d0d8bb1f-c6d5-48c2-9de9-4acdea4dedf0_7\", \"run_number\": 12, \"metric\": null, \"status\": \"Completed\", \"run_type\": \"azureml.scriptrun\", \"training_percent\": \"100\", \"start_time\": \"2021-05-16T18:12:29.7729Z\", \"end_time\": \"2021-05-16T18:13:11.663509Z\", \"created_time\": \"2021-05-16T18:12:20.286112Z\", \"created_time_dt\": \"2021-05-16T18:12:20.286112Z\", \"duration\": \"0:00:51\", \"iteration\": \"7\", \"goal\": \"accuracy_max\", \"run_name\": \"SparseNormalizer, XGBoostClassifier\", \"run_properties\": \"<azureml.automl.runtime.shared.model_wrappers.SparseNormalizer object at 0x7f0cc172c400\", \"primary_metric\": 0.79942499, \"best_metric\": 0.82335474}, {\"run_id\": \"AutoML_d0d8bb1f-c6d5-48c2-9de9-4acdea4dedf0_8\", \"run_number\": 13, \"metric\": null, \"status\": \"Completed\", \"run_type\": \"azureml.scriptrun\", \"training_percent\": \"100\", \"start_time\": \"2021-05-16T18:13:27.586279Z\", \"end_time\": \"2021-05-16T18:14:10.854551Z\", \"created_time\": \"2021-05-16T18:13:13.81411Z\", \"created_time_dt\": \"2021-05-16T18:13:13.81411Z\", \"duration\": \"0:00:57\", \"iteration\": \"8\", \"goal\": \"accuracy_max\", \"run_name\": \"MaxAbsScaler, RandomForest\", \"run_properties\": \"copy=True\", \"primary_metric\": 0.77844436, \"best_metric\": 0.82335474}, {\"run_id\": \"AutoML_d0d8bb1f-c6d5-48c2-9de9-4acdea4dedf0_9\", \"run_number\": 14, \"metric\": null, \"status\": \"Completed\", \"run_type\": \"azureml.scriptrun\", \"training_percent\": \"100\", \"start_time\": \"2021-05-16T18:14:22.490312Z\", \"end_time\": \"2021-05-16T18:15:04.509035Z\", \"created_time\": \"2021-05-16T18:14:13.234963Z\", \"created_time_dt\": \"2021-05-16T18:14:13.234963Z\", \"duration\": \"0:00:51\", \"iteration\": \"9\", \"goal\": \"accuracy_max\", \"run_name\": \"SparseNormalizer, LightGBM\", \"run_properties\": \"<azureml.automl.runtime.shared.model_wrappers.SparseNormalizer object at 0x7f97638ef240\", \"primary_metric\": 0.80086589, \"best_metric\": 0.82335474}, {\"run_id\": \"AutoML_d0d8bb1f-c6d5-48c2-9de9-4acdea4dedf0_10\", \"run_number\": 15, \"metric\": null, \"status\": \"Completed\", \"run_type\": \"azureml.scriptrun\", \"training_percent\": \"100\", \"start_time\": \"2021-05-16T18:14:29.540178Z\", \"end_time\": \"2021-05-16T18:15:10.551578Z\", \"created_time\": \"2021-05-16T18:14:13.348739Z\", \"created_time_dt\": \"2021-05-16T18:14:13.348739Z\", \"duration\": \"0:00:57\", \"iteration\": \"10\", \"goal\": \"accuracy_max\", \"run_name\": \"SparseNormalizer, XGBoostClassifier\", \"run_properties\": \"<azureml.automl.runtime.shared.model_wrappers.SparseNormalizer object at 0x7f687bf52780\", \"primary_metric\": 0.79789655, \"best_metric\": 0.82335474}, {\"run_id\": \"AutoML_d0d8bb1f-c6d5-48c2-9de9-4acdea4dedf0_11\", \"run_number\": 16, \"metric\": null, \"status\": \"Completed\", \"run_type\": \"azureml.scriptrun\", \"training_percent\": \"100\", \"start_time\": \"2021-05-16T18:14:34.352785Z\", \"end_time\": \"2021-05-16T18:15:24.199484Z\", \"created_time\": \"2021-05-16T18:14:18.042456Z\", \"created_time_dt\": \"2021-05-16T18:14:18.042456Z\", \"duration\": \"0:01:06\", \"iteration\": \"11\", \"goal\": \"accuracy_max\", \"run_name\": \"SparseNormalizer, XGBoostClassifier\", \"run_properties\": \"<azureml.automl.runtime.shared.model_wrappers.SparseNormalizer object at 0x7f25e23f1400\", \"primary_metric\": 0.80088609, \"best_metric\": 0.82335474}, {\"run_id\": \"AutoML_d0d8bb1f-c6d5-48c2-9de9-4acdea4dedf0_12\", \"run_number\": 17, \"metric\": null, \"status\": \"Completed\", \"run_type\": \"azureml.scriptrun\", \"training_percent\": \"100\", \"start_time\": \"2021-05-16T18:14:39.588718Z\", \"end_time\": \"2021-05-16T18:15:19.286666Z\", \"created_time\": \"2021-05-16T18:14:28.13352Z\", \"created_time_dt\": \"2021-05-16T18:14:28.13352Z\", \"duration\": \"0:00:51\", \"iteration\": \"12\", \"goal\": \"accuracy_max\", \"run_name\": \"MaxAbsScaler, LogisticRegression\", \"run_properties\": \"copy=True\", \"primary_metric\": 0.82035174, \"best_metric\": 0.82335474}, {\"run_id\": \"AutoML_d0d8bb1f-c6d5-48c2-9de9-4acdea4dedf0_13\", \"run_number\": 18, \"metric\": null, \"status\": \"Completed\", \"run_type\": \"azureml.scriptrun\", \"training_percent\": \"100\", \"start_time\": \"2021-05-16T18:15:07.678481Z\", \"end_time\": \"2021-05-16T18:15:53.790134Z\", \"created_time\": \"2021-05-16T18:14:54.072357Z\", \"created_time_dt\": \"2021-05-16T18:14:54.072357Z\", \"duration\": \"0:00:59\", \"iteration\": \"13\", \"goal\": \"accuracy_max\", \"run_name\": \"MaxAbsScaler, RandomForest\", \"run_properties\": \"copy=True\", \"primary_metric\": 0.79195114, \"best_metric\": 0.82335474}, {\"run_id\": \"AutoML_d0d8bb1f-c6d5-48c2-9de9-4acdea4dedf0_14\", \"run_number\": 19, \"metric\": null, \"status\": \"Completed\", \"run_type\": \"azureml.scriptrun\", \"training_percent\": \"100\", \"start_time\": \"2021-05-16T18:15:21.178885Z\", \"end_time\": \"2021-05-16T18:15:59.759936Z\", \"created_time\": \"2021-05-16T18:15:06.404881Z\", \"created_time_dt\": \"2021-05-16T18:15:06.404881Z\", \"duration\": \"0:00:53\", \"iteration\": \"14\", \"goal\": \"accuracy_max\", \"run_name\": \"SparseNormalizer, XGBoostClassifier\", \"run_properties\": \"<azureml.automl.runtime.shared.model_wrappers.SparseNormalizer object at 0x7f52858dda58\", \"primary_metric\": 0.80387562, \"best_metric\": 0.82335474}, {\"run_id\": \"AutoML_d0d8bb1f-c6d5-48c2-9de9-4acdea4dedf0_15\", \"run_number\": 20, \"metric\": null, \"status\": \"Completed\", \"run_type\": \"azureml.scriptrun\", \"training_percent\": \"100\", \"start_time\": \"2021-05-16T18:15:24.514043Z\", \"end_time\": \"2021-05-16T18:16:08.513469Z\", \"created_time\": \"2021-05-16T18:15:17.076497Z\", \"created_time_dt\": \"2021-05-16T18:15:17.076497Z\", \"duration\": \"0:00:51\", \"iteration\": \"15\", \"goal\": \"accuracy_max\", \"run_name\": \"StandardScalerWrapper, LogisticRegression\", \"run_properties\": \"<azureml.automl.runtime.shared.model_wrappers.StandardScalerWrapper object at 0x7efe789d01d0\", \"primary_metric\": 0.81436594, \"best_metric\": 0.82335474}, {\"run_id\": \"AutoML_d0d8bb1f-c6d5-48c2-9de9-4acdea4dedf0_16\", \"run_number\": 21, \"metric\": null, \"status\": \"Completed\", \"run_type\": \"azureml.scriptrun\", \"training_percent\": \"100\", \"start_time\": \"2021-05-16T18:15:34.929392Z\", \"end_time\": \"2021-05-16T18:16:15.214525Z\", \"created_time\": \"2021-05-16T18:15:21.086799Z\", \"created_time_dt\": \"2021-05-16T18:15:21.086799Z\", \"duration\": \"0:00:54\", \"iteration\": \"16\", \"goal\": \"accuracy_max\", \"run_name\": \"MaxAbsScaler, LightGBM\", \"run_properties\": \"copy=True\", \"primary_metric\": 0.79040924, \"best_metric\": 0.82335474}, {\"run_id\": \"AutoML_d0d8bb1f-c6d5-48c2-9de9-4acdea4dedf0_17\", \"run_number\": 22, \"metric\": null, \"status\": \"Completed\", \"run_type\": \"azureml.scriptrun\", \"training_percent\": \"100\", \"start_time\": \"2021-05-16T18:15:38.337941Z\", \"end_time\": \"2021-05-16T18:16:20.93637Z\", \"created_time\": \"2021-05-16T18:15:26.092664Z\", \"created_time_dt\": \"2021-05-16T18:15:26.092664Z\", \"duration\": \"0:00:54\", \"iteration\": \"17\", \"goal\": \"accuracy_max\", \"run_name\": \"StandardScalerWrapper, RandomForest\", \"run_properties\": \"<azureml.automl.runtime.shared.model_wrappers.StandardScalerWrapper object at 0x7f0fa56e1e10\", \"primary_metric\": 0.78591147, \"best_metric\": 0.82335474}, {\"run_id\": \"AutoML_d0d8bb1f-c6d5-48c2-9de9-4acdea4dedf0_18\", \"run_number\": 23, \"metric\": null, \"status\": \"Completed\", \"run_type\": \"azureml.scriptrun\", \"training_percent\": \"100\", \"start_time\": \"2021-05-16T18:16:06.929186Z\", \"end_time\": \"2021-05-16T18:16:55.248749Z\", \"created_time\": \"2021-05-16T18:15:55.607767Z\", \"created_time_dt\": \"2021-05-16T18:15:55.607767Z\", \"duration\": \"0:00:59\", \"iteration\": \"18\", \"goal\": \"accuracy_max\", \"run_name\": \"MaxAbsScaler, LogisticRegression\", \"run_properties\": \"copy=True\", \"primary_metric\": 0.81436594, \"best_metric\": 0.82335474}, {\"run_id\": \"AutoML_d0d8bb1f-c6d5-48c2-9de9-4acdea4dedf0_19\", \"run_number\": 24, \"metric\": null, \"status\": \"Completed\", \"run_type\": \"azureml.scriptrun\", \"training_percent\": \"100\", \"start_time\": \"2021-05-16T18:16:17.605096Z\", \"end_time\": \"2021-05-16T18:17:01.486157Z\", \"created_time\": \"2021-05-16T18:16:01.467421Z\", \"created_time_dt\": \"2021-05-16T18:16:01.467421Z\", \"duration\": \"0:01:00\", \"iteration\": \"19\", \"goal\": \"accuracy_max\", \"run_name\": \"StandardScalerWrapper, GradientBoosting\", \"run_properties\": \"<azureml.automl.runtime.shared.model_wrappers.StandardScalerWrapper object at 0x7fb2bb575ba8\", \"primary_metric\": 0.7814339, \"best_metric\": 0.82335474}, {\"run_id\": \"AutoML_d0d8bb1f-c6d5-48c2-9de9-4acdea4dedf0_20\", \"run_number\": 25, \"metric\": null, \"status\": \"Completed\", \"run_type\": \"azureml.scriptrun\", \"training_percent\": \"100\", \"start_time\": \"2021-05-16T18:16:21.51689Z\", \"end_time\": \"2021-05-16T18:17:04.077973Z\", \"created_time\": \"2021-05-16T18:16:10.258407Z\", \"created_time_dt\": \"2021-05-16T18:16:10.258407Z\", \"duration\": \"0:00:53\", \"iteration\": \"20\", \"goal\": \"accuracy_max\", \"run_name\": \"StandardScalerWrapper, LightGBM\", \"run_properties\": \"<azureml.automl.runtime.shared.model_wrappers.StandardScalerWrapper object at 0x7f917695d208\", \"primary_metric\": 0.80541079, \"best_metric\": 0.82335474}, {\"run_id\": \"AutoML_d0d8bb1f-c6d5-48c2-9de9-4acdea4dedf0_21\", \"run_number\": 26, \"metric\": null, \"status\": \"Completed\", \"run_type\": \"azureml.scriptrun\", \"training_percent\": \"100\", \"start_time\": \"2021-05-16T18:16:35.538921Z\", \"end_time\": \"2021-05-16T18:17:17.26834Z\", \"created_time\": \"2021-05-16T18:16:16.959658Z\", \"created_time_dt\": \"2021-05-16T18:16:16.959658Z\", \"duration\": \"0:01:00\", \"iteration\": \"21\", \"goal\": \"accuracy_max\", \"run_name\": \"SparseNormalizer, XGBoostClassifier\", \"run_properties\": \"<azureml.automl.runtime.shared.model_wrappers.SparseNormalizer object at 0x7f55cd4ca908\", \"primary_metric\": 0.80687863, \"best_metric\": 0.82335474}, {\"run_id\": \"AutoML_d0d8bb1f-c6d5-48c2-9de9-4acdea4dedf0_22\", \"run_number\": 27, \"metric\": null, \"status\": \"Completed\", \"run_type\": \"azureml.scriptrun\", \"training_percent\": \"100\", \"start_time\": \"2021-05-16T18:16:36.588996Z\", \"end_time\": \"2021-05-16T18:17:19.81933Z\", \"created_time\": \"2021-05-16T18:16:22.936882Z\", \"created_time_dt\": \"2021-05-16T18:16:22.936882Z\", \"duration\": \"0:00:56\", \"iteration\": \"22\", \"goal\": \"accuracy_max\", \"run_name\": \"SparseNormalizer, LightGBM\", \"run_properties\": \"<azureml.automl.runtime.shared.model_wrappers.SparseNormalizer object at 0x7f6555aa10f0\", \"primary_metric\": 0.80085916, \"best_metric\": 0.82335474}, {\"run_id\": \"AutoML_d0d8bb1f-c6d5-48c2-9de9-4acdea4dedf0_23\", \"run_number\": 28, \"metric\": null, \"status\": \"Completed\", \"run_type\": \"azureml.scriptrun\", \"training_percent\": \"100\", \"start_time\": \"2021-05-16T18:17:07.40771Z\", \"end_time\": \"2021-05-16T18:17:52.092655Z\", \"created_time\": \"2021-05-16T18:16:57.379657Z\", \"created_time_dt\": \"2021-05-16T18:16:57.379657Z\", \"duration\": \"0:00:54\", \"iteration\": \"23\", \"goal\": \"accuracy_max\", \"run_name\": \"SparseNormalizer, XGBoostClassifier\", \"run_properties\": \"<azureml.automl.runtime.shared.model_wrappers.SparseNormalizer object at 0x7f6fab07cc18\", \"primary_metric\": 0.80988836, \"best_metric\": 0.82335474}, {\"run_id\": \"AutoML_d0d8bb1f-c6d5-48c2-9de9-4acdea4dedf0_24\", \"run_number\": 29, \"metric\": null, \"status\": \"Completed\", \"run_type\": \"azureml.scriptrun\", \"training_percent\": \"100\", \"start_time\": \"2021-05-16T18:17:14.613342Z\", \"end_time\": \"2021-05-16T18:17:57.296992Z\", \"created_time\": \"2021-05-16T18:17:03.29979Z\", \"created_time_dt\": \"2021-05-16T18:17:03.29979Z\", \"duration\": \"0:00:53\", \"iteration\": \"24\", \"goal\": \"accuracy_max\", \"run_name\": \"StandardScalerWrapper, XGBoostClassifier\", \"run_properties\": \"<azureml.automl.runtime.shared.model_wrappers.StandardScalerWrapper object at 0x7fe396d161d0\", \"primary_metric\": 0.79195114, \"best_metric\": 0.82335474}, {\"run_id\": \"AutoML_d0d8bb1f-c6d5-48c2-9de9-4acdea4dedf0_25\", \"run_number\": 30, \"metric\": null, \"status\": \"Completed\", \"run_type\": \"azureml.scriptrun\", \"training_percent\": \"100\", \"start_time\": \"2021-05-16T18:17:21.171497Z\", \"end_time\": \"2021-05-16T18:18:25.708071Z\", \"created_time\": \"2021-05-16T18:17:07.304625Z\", \"created_time_dt\": \"2021-05-16T18:17:07.304625Z\", \"duration\": \"0:01:18\", \"iteration\": \"25\", \"goal\": \"accuracy_max\", \"run_name\": \"MaxAbsScaler, LightGBM\", \"run_properties\": \"copy=True\", \"primary_metric\": 0.7814945, \"best_metric\": 0.82335474}, {\"run_id\": \"AutoML_d0d8bb1f-c6d5-48c2-9de9-4acdea4dedf0_26\", \"run_number\": 31, \"metric\": null, \"status\": \"Completed\", \"run_type\": \"azureml.scriptrun\", \"training_percent\": \"100\", \"start_time\": \"2021-05-16T18:17:34.997115Z\", \"end_time\": \"2021-05-16T18:18:16.007579Z\", \"created_time\": \"2021-05-16T18:17:19.199833Z\", \"created_time_dt\": \"2021-05-16T18:17:19.199833Z\", \"duration\": \"0:00:56\", \"iteration\": \"26\", \"goal\": \"accuracy_max\", \"run_name\": \"MaxAbsScaler, LightGBM\", \"run_properties\": \"copy=True\", \"primary_metric\": 0.81585397, \"best_metric\": 0.82335474}, {\"run_id\": \"AutoML_d0d8bb1f-c6d5-48c2-9de9-4acdea4dedf0_27\", \"run_number\": 32, \"metric\": null, \"status\": \"Completed\", \"run_type\": \"azureml.scriptrun\", \"training_percent\": \"100\", \"start_time\": \"2021-05-16T18:17:36.256828Z\", \"end_time\": \"2021-05-16T18:18:16.70923Z\", \"created_time\": \"2021-05-16T18:17:22.123239Z\", \"created_time_dt\": \"2021-05-16T18:17:22.123239Z\", \"duration\": \"0:00:54\", \"iteration\": \"27\", \"goal\": \"accuracy_max\", \"run_name\": \"MaxAbsScaler, LightGBM\", \"run_properties\": \"copy=True\", \"primary_metric\": 0.79942499, \"best_metric\": 0.82335474}, {\"run_id\": \"AutoML_d0d8bb1f-c6d5-48c2-9de9-4acdea4dedf0_28\", \"run_number\": 33, \"metric\": null, \"status\": \"Completed\", \"run_type\": \"azureml.scriptrun\", \"training_percent\": \"100\", \"start_time\": \"2021-05-16T18:18:05.099368Z\", \"end_time\": \"2021-05-16T18:18:47.699307Z\", \"created_time\": \"2021-05-16T18:17:53.899237Z\", \"created_time_dt\": \"2021-05-16T18:17:53.899237Z\", \"duration\": \"0:00:53\", \"iteration\": \"28\", \"goal\": \"accuracy_max\", \"run_name\": \"SparseNormalizer, XGBoostClassifier\", \"run_properties\": \"<azureml.automl.runtime.shared.model_wrappers.SparseNormalizer object at 0x7f1d005b1a90\", \"primary_metric\": 0.80390929, \"best_metric\": 0.82335474}, {\"run_id\": \"AutoML_d0d8bb1f-c6d5-48c2-9de9-4acdea4dedf0_29\", \"run_number\": 34, \"metric\": null, \"status\": \"Completed\", \"run_type\": \"azureml.scriptrun\", \"training_percent\": \"100\", \"start_time\": \"2021-05-16T18:18:12.204373Z\", \"end_time\": \"2021-05-16T18:18:54.80385Z\", \"created_time\": \"2021-05-16T18:17:59.143912Z\", \"created_time_dt\": \"2021-05-16T18:17:59.143912Z\", \"duration\": \"0:00:55\", \"iteration\": \"29\", \"goal\": \"accuracy_max\", \"run_name\": \"StandardScalerWrapper, LightGBM\", \"run_properties\": \"<azureml.automl.runtime.shared.model_wrappers.StandardScalerWrapper object at 0x7fef78e62cc0\", \"primary_metric\": 0.7215489, \"best_metric\": 0.82335474}, {\"run_id\": \"AutoML_d0d8bb1f-c6d5-48c2-9de9-4acdea4dedf0_30\", \"run_number\": 35, \"metric\": null, \"status\": \"Completed\", \"run_type\": \"azureml.scriptrun\", \"training_percent\": \"100\", \"start_time\": \"2021-05-16T18:18:30.433251Z\", \"end_time\": \"2021-05-16T18:19:13.017644Z\", \"created_time\": \"2021-05-16T18:18:18.913747Z\", \"created_time_dt\": \"2021-05-16T18:18:18.913747Z\", \"duration\": \"0:00:54\", \"iteration\": \"30\", \"goal\": \"accuracy_max\", \"run_name\": \"StandardScalerWrapper, LightGBM\", \"run_properties\": \"<azureml.automl.runtime.shared.model_wrappers.StandardScalerWrapper object at 0x7f04635dcd30\", \"primary_metric\": 0.61681412, \"best_metric\": 0.82335474}, {\"run_id\": \"AutoML_d0d8bb1f-c6d5-48c2-9de9-4acdea4dedf0_31\", \"run_number\": 36, \"metric\": null, \"status\": \"Completed\", \"run_type\": \"azureml.scriptrun\", \"training_percent\": \"100\", \"start_time\": \"2021-05-16T18:18:30.61078Z\", \"end_time\": \"2021-05-16T18:19:11.82382Z\", \"created_time\": \"2021-05-16T18:18:22.150253Z\", \"created_time_dt\": \"2021-05-16T18:18:22.150253Z\", \"duration\": \"0:00:49\", \"iteration\": \"31\", \"goal\": \"accuracy_max\", \"run_name\": \"StandardScalerWrapper, LightGBM\", \"run_properties\": \"<azureml.automl.runtime.shared.model_wrappers.StandardScalerWrapper object at 0x7f2b23403be0\", \"primary_metric\": 0.7829354, \"best_metric\": 0.82335474}, {\"run_id\": \"AutoML_d0d8bb1f-c6d5-48c2-9de9-4acdea4dedf0_32\", \"run_number\": 37, \"metric\": null, \"status\": \"Completed\", \"run_type\": \"azureml.scriptrun\", \"training_percent\": \"100\", \"start_time\": \"2021-05-16T18:18:38.868861Z\", \"end_time\": \"2021-05-16T18:19:24.291213Z\", \"created_time\": \"2021-05-16T18:18:27.580089Z\", \"created_time_dt\": \"2021-05-16T18:18:27.580089Z\", \"duration\": \"0:00:56\", \"iteration\": \"32\", \"goal\": \"accuracy_max\", \"run_name\": \"StandardScalerWrapper, XGBoostClassifier\", \"run_properties\": \"<azureml.automl.runtime.shared.model_wrappers.StandardScalerWrapper object at 0x7f830155eb00\", \"primary_metric\": 0.79937112, \"best_metric\": 0.82335474}, {\"run_id\": \"AutoML_d0d8bb1f-c6d5-48c2-9de9-4acdea4dedf0_33\", \"run_number\": 38, \"metric\": null, \"status\": \"Completed\", \"run_type\": \"azureml.scriptrun\", \"training_percent\": \"100\", \"start_time\": \"2021-05-16T18:19:05.416972Z\", \"end_time\": \"2021-05-16T18:19:49.256461Z\", \"created_time\": \"2021-05-16T18:18:49.712319Z\", \"created_time_dt\": \"2021-05-16T18:18:49.712319Z\", \"duration\": \"0:00:59\", \"iteration\": \"33\", \"goal\": \"accuracy_max\", \"run_name\": \"StandardScalerWrapper, XGBoostClassifier\", \"run_properties\": \"<azureml.automl.runtime.shared.model_wrappers.StandardScalerWrapper object at 0x7f9ac95c17f0\", \"primary_metric\": 0.78445037, \"best_metric\": 0.82335474}, {\"run_id\": \"AutoML_d0d8bb1f-c6d5-48c2-9de9-4acdea4dedf0_34\", \"run_number\": 39, \"metric\": null, \"status\": \"Canceled\", \"run_type\": \"azureml.scriptrun\", \"training_percent\": \"100\", \"start_time\": \"2021-05-16T18:19:12.314799Z\", \"end_time\": \"2021-05-16T18:19:55.188389Z\", \"created_time\": \"2021-05-16T18:18:56.583996Z\", \"created_time_dt\": \"2021-05-16T18:18:56.583996Z\", \"duration\": \"0:00:58\", \"iteration\": \"34\", \"goal\": \"accuracy_max\", \"run_name\": \"SparseNormalizer, ExtremeRandomTrees\", \"run_properties\": \"<azureml.automl.runtime.shared.model_wrappers.SparseNormalizer object at 0x7fe4a83e0710\", \"primary_metric\": 0.79189728, \"best_metric\": 0.82335474}, {\"run_id\": \"AutoML_d0d8bb1f-c6d5-48c2-9de9-4acdea4dedf0_35\", \"run_number\": 40, \"metric\": null, \"status\": \"Canceled\", \"run_type\": \"azureml.scriptrun\", \"training_percent\": \"100\", \"start_time\": \"2021-05-16T18:19:30.354912Z\", \"end_time\": \"2021-05-16T18:19:55.196143Z\", \"created_time\": \"2021-05-16T18:19:14.606114Z\", \"created_time_dt\": \"2021-05-16T18:19:14.606114Z\", \"duration\": \"0:00:40\", \"iteration\": \"35\", \"goal\": \"accuracy_max\", \"run_name\": \"MaxAbsScaler, LightGBM\", \"run_properties\": \"copy=True\", \"primary_metric\": 0.8158607, \"best_metric\": 0.82335474}, {\"run_id\": \"AutoML_d0d8bb1f-c6d5-48c2-9de9-4acdea4dedf0_36\", \"run_number\": 41, \"metric\": null, \"status\": \"Canceled\", \"run_type\": \"azureml.scriptrun\", \"training_percent\": \"100\", \"start_time\": \"2021-05-16T18:19:27.848974Z\", \"end_time\": \"2021-05-16T18:19:55.227819Z\", \"created_time\": \"2021-05-16T18:19:18.226478Z\", \"created_time_dt\": \"2021-05-16T18:19:18.226478Z\", \"duration\": \"0:00:37\", \"iteration\": \"36\", \"goal\": \"accuracy_max\", \"run_name\": \"MaxAbsScaler, LogisticRegression\", \"run_properties\": \"copy=True\", \"primary_metric\": 0.79337858, \"best_metric\": 0.82335474}, {\"run_id\": \"AutoML_d0d8bb1f-c6d5-48c2-9de9-4acdea4dedf0_37\", \"run_number\": 42, \"metric\": null, \"status\": \"Canceled\", \"run_type\": \"azureml.scriptrun\", \"training_percent\": \"100\", \"start_time\": \"2021-05-16T18:19:40.178113Z\", \"end_time\": \"2021-05-16T18:19:55.256407Z\", \"created_time\": \"2021-05-16T18:19:26.19612Z\", \"created_time_dt\": \"2021-05-16T18:19:26.19612Z\", \"duration\": \"0:00:29\", \"iteration\": \"37\", \"goal\": null, \"run_name\": \"Canceled\", \"run_properties\": null}, {\"run_id\": \"AutoML_d0d8bb1f-c6d5-48c2-9de9-4acdea4dedf0_38\", \"run_number\": 43, \"metric\": null, \"status\": \"Completed\", \"run_type\": \"azureml.scriptrun\", \"training_percent\": \"100\", \"start_time\": \"2021-05-16T18:20:03.5995Z\", \"end_time\": \"2021-05-16T18:20:56.226154Z\", \"created_time\": \"2021-05-16T18:19:56.276495Z\", \"created_time_dt\": \"2021-05-16T18:19:56.276495Z\", \"duration\": \"0:00:59\", \"iteration\": \"38\", \"goal\": \"accuracy_max\", \"run_name\": \"VotingEnsemble\", \"run_properties\": \"classification_labels=None,\\n                              estimators=[('0',\\n                                           Pipeline(memory=None,\\n                                                    steps=[('maxabsscaler',\\n                                                            MaxAbsScaler(copy=True\", \"primary_metric\": 0.82936748, \"best_metric\": 0.82936748}, {\"run_id\": \"AutoML_d0d8bb1f-c6d5-48c2-9de9-4acdea4dedf0_39\", \"run_number\": 44, \"metric\": null, \"status\": \"Completed\", \"run_type\": \"azureml.scriptrun\", \"training_percent\": \"100\", \"start_time\": \"2021-05-16T18:20:03.452855Z\", \"end_time\": \"2021-05-16T18:21:02.133707Z\", \"created_time\": \"2021-05-16T18:19:56.318735Z\", \"created_time_dt\": \"2021-05-16T18:19:56.318735Z\", \"duration\": \"0:01:05\", \"iteration\": \"39\", \"goal\": \"accuracy_max\", \"run_name\": \"StackEnsemble\", \"run_properties\": \"base_learners=[('0',\\n                                        Pipeline(memory=None,\\n                                                 steps=[('maxabsscaler',\\n                                                         MaxAbsScaler(copy=True\", \"primary_metric\": 0.8128779, \"best_metric\": 0.82936748}], \"children_metrics\": {\"categories\": [0], \"series\": {\"AUC_macro\": [{\"categories\": [\"0\", \"1\", \"2\", \"3\", \"4\", \"5\", \"6\", \"7\", \"8\", \"9\", \"10\", \"11\", \"12\", \"13\", \"14\", \"15\", \"16\", \"17\", \"18\", \"19\", \"20\", \"21\", \"22\", \"23\", \"24\", \"25\", \"26\", \"27\", \"28\", \"29\", \"30\", \"31\", \"32\", \"33\", \"34\", \"35\", \"36\", \"38\", \"39\"], \"mode\": \"markers\", \"name\": \"AUC_macro\", \"stepped\": false, \"type\": \"scatter\", \"data\": [0.8665754699585447, 0.8612835982820582, 0.8428856739768587, 0.8574166141434896, 0.862500136865821, 0.8598423583390273, 0.8521982078285016, 0.8514914787584636, 0.84634642028155, 0.8576453837719581, 0.846744022836995, 0.8570098494129273, 0.862192144697112, 0.8581450997374293, 0.8491434412958352, 0.8563596500892826, 0.8476761429818968, 0.8444059959217022, 0.8571880398977139, 0.8581701008871999, 0.847067696303097, 0.8573748781477963, 0.8579987798913974, 0.8503690720303417, 0.8474340148575464, 0.8559041554950858, 0.8663954556571193, 0.8563266923588543, 0.852669763222815, 0.8200081555869891, 0.8329845534360598, 0.8599249993418688, 0.8565075611535097, 0.8455596225026175, 0.8598790601698779, 0.8735968890629019, 0.8595784585106664, 0.8723945690995817, 0.875729949005411]}, {\"categories\": [\"0\", \"1\", \"2\", \"3\", \"4\", \"5\", \"6\", \"7\", \"8\", \"9\", \"10\", \"11\", \"12\", \"13\", \"14\", \"15\", \"16\", \"17\", \"18\", \"19\", \"20\", \"21\", \"22\", \"23\", \"24\", \"25\", \"26\", \"27\", \"28\", \"29\", \"30\", \"31\", \"32\", \"33\", \"34\", \"35\", \"36\", \"38\", \"39\"], \"mode\": \"lines\", \"name\": \"AUC_macro_max\", \"stepped\": true, \"type\": \"scatter\", \"data\": [0.8665754699585447, 0.8665754699585447, 0.8665754699585447, 0.8665754699585447, 0.8665754699585447, 0.8665754699585447, 0.8665754699585447, 0.8665754699585447, 0.8665754699585447, 0.8665754699585447, 0.8665754699585447, 0.8665754699585447, 0.8665754699585447, 0.8665754699585447, 0.8665754699585447, 0.8665754699585447, 0.8665754699585447, 0.8665754699585447, 0.8665754699585447, 0.8665754699585447, 0.8665754699585447, 0.8665754699585447, 0.8665754699585447, 0.8665754699585447, 0.8665754699585447, 0.8665754699585447, 0.8665754699585447, 0.8665754699585447, 0.8665754699585447, 0.8665754699585447, 0.8665754699585447, 0.8665754699585447, 0.8665754699585447, 0.8665754699585447, 0.8665754699585447, 0.8735968890629019, 0.8735968890629019, 0.8735968890629019, 0.875729949005411]}], \"recall_score_weighted\": [{\"categories\": [\"0\", \"1\", \"2\", \"3\", \"4\", \"5\", \"6\", \"7\", \"8\", \"9\", \"10\", \"11\", \"12\", \"13\", \"14\", \"15\", \"16\", \"17\", \"18\", \"19\", \"20\", \"21\", \"22\", \"23\", \"24\", \"25\", \"26\", \"27\", \"28\", \"29\", \"30\", \"31\", \"32\", \"33\", \"34\", \"35\", \"36\", \"38\", \"39\"], \"mode\": \"markers\", \"name\": \"recall_score_weighted\", \"stepped\": false, \"type\": \"scatter\", \"data\": [0.8233547448794086, 0.8024010557642844, 0.7829152021977134, 0.8068988270781993, 0.8023539234301565, 0.7678799876109292, 0.7964152493300475, 0.7994249855236402, 0.7784443636461574, 0.8008658883098345, 0.7978965512597799, 0.8008860878816035, 0.8203517418764056, 0.7919511439690812, 0.8038756245034272, 0.8143659354421686, 0.7904092433240416, 0.7859114720101267, 0.8143659354421686, 0.781433900267981, 0.8054107919578772, 0.8068786275064301, 0.8008591551192449, 0.8098883637000229, 0.7919511439690812, 0.7814944989832883, 0.8158539705624906, 0.7994249855236402, 0.8039092904563757, 0.7215489031632529, 0.616814123540581, 0.7829354017694824, 0.7993711199989226, 0.7844503696521633, 0.7918972784443638, 0.8158607037530805, 0.793378580374096, 0.8293674840760042, 0.8128779003218466]}, {\"categories\": [\"0\", \"1\", \"2\", \"3\", \"4\", \"5\", \"6\", \"7\", \"8\", \"9\", \"10\", \"11\", \"12\", \"13\", \"14\", \"15\", \"16\", \"17\", \"18\", \"19\", \"20\", \"21\", \"22\", \"23\", \"24\", \"25\", \"26\", \"27\", \"28\", \"29\", \"30\", \"31\", \"32\", \"33\", \"34\", \"35\", \"36\", \"38\", \"39\"], \"mode\": \"lines\", \"name\": \"recall_score_weighted_max\", \"stepped\": true, \"type\": \"scatter\", \"data\": [0.8233547448794086, 0.8233547448794086, 0.8233547448794086, 0.8233547448794086, 0.8233547448794086, 0.8233547448794086, 0.8233547448794086, 0.8233547448794086, 0.8233547448794086, 0.8233547448794086, 0.8233547448794086, 0.8233547448794086, 0.8233547448794086, 0.8233547448794086, 0.8233547448794086, 0.8233547448794086, 0.8233547448794086, 0.8233547448794086, 0.8233547448794086, 0.8233547448794086, 0.8233547448794086, 0.8233547448794086, 0.8233547448794086, 0.8233547448794086, 0.8233547448794086, 0.8233547448794086, 0.8233547448794086, 0.8233547448794086, 0.8233547448794086, 0.8233547448794086, 0.8233547448794086, 0.8233547448794086, 0.8233547448794086, 0.8233547448794086, 0.8233547448794086, 0.8233547448794086, 0.8233547448794086, 0.8293674840760042, 0.8293674840760042]}], \"average_precision_score_micro\": [{\"categories\": [\"0\", \"1\", \"2\", \"3\", \"4\", \"5\", \"6\", \"7\", \"8\", \"9\", \"10\", \"11\", \"12\", \"13\", \"14\", \"15\", \"16\", \"17\", \"18\", \"19\", \"20\", \"21\", \"22\", \"23\", \"24\", \"25\", \"26\", \"27\", \"28\", \"29\", \"30\", \"31\", \"32\", \"33\", \"34\", \"35\", \"36\", \"38\", \"39\"], \"mode\": \"markers\", \"name\": \"average_precision_score_micro\", \"stepped\": false, \"type\": \"scatter\", \"data\": [0.8707903801514153, 0.8663597965553844, 0.8460498037935421, 0.86002655832822, 0.8703407289965126, 0.8535280420904044, 0.8491431166637868, 0.8540950810799529, 0.8322489955866675, 0.8596889310383523, 0.8515640409635953, 0.8661334578006508, 0.8662912548997896, 0.864999194628287, 0.8508312155816554, 0.8560508851655425, 0.8443857095983569, 0.8397703126499452, 0.8598118735283958, 0.8577747628268826, 0.8335177539284914, 0.8628989920441468, 0.8652266894565717, 0.8503926426724512, 0.8445510476659802, 0.8179747878154222, 0.8739950696526932, 0.8564119243576465, 0.8572521720167474, 0.7849316606604697, 0.7728649111192213, 0.8747961815588176, 0.8702434127697011, 0.8418686161848864, 0.8468933224101031, 0.877429595857584, 0.8562461835326407, 0.874790175666449, 0.8776706230299954]}, {\"categories\": [\"0\", \"1\", \"2\", \"3\", \"4\", \"5\", \"6\", \"7\", \"8\", \"9\", \"10\", \"11\", \"12\", \"13\", \"14\", \"15\", \"16\", \"17\", \"18\", \"19\", \"20\", \"21\", \"22\", \"23\", \"24\", \"25\", \"26\", \"27\", \"28\", \"29\", \"30\", \"31\", \"32\", \"33\", \"34\", \"35\", \"36\", \"38\", \"39\"], \"mode\": \"lines\", \"name\": \"average_precision_score_micro_max\", \"stepped\": true, \"type\": \"scatter\", \"data\": [0.8707903801514153, 0.8707903801514153, 0.8707903801514153, 0.8707903801514153, 0.8707903801514153, 0.8707903801514153, 0.8707903801514153, 0.8707903801514153, 0.8707903801514153, 0.8707903801514153, 0.8707903801514153, 0.8707903801514153, 0.8707903801514153, 0.8707903801514153, 0.8707903801514153, 0.8707903801514153, 0.8707903801514153, 0.8707903801514153, 0.8707903801514153, 0.8707903801514153, 0.8707903801514153, 0.8707903801514153, 0.8707903801514153, 0.8707903801514153, 0.8707903801514153, 0.8707903801514153, 0.8739950696526932, 0.8739950696526932, 0.8739950696526932, 0.8739950696526932, 0.8739950696526932, 0.8747961815588176, 0.8747961815588176, 0.8747961815588176, 0.8747961815588176, 0.877429595857584, 0.877429595857584, 0.877429595857584, 0.8776706230299954]}], \"norm_macro_recall\": [{\"categories\": [\"0\", \"1\", \"2\", \"3\", \"4\", \"5\", \"6\", \"7\", \"8\", \"9\", \"10\", \"11\", \"12\", \"13\", \"14\", \"15\", \"16\", \"17\", \"18\", \"19\", \"20\", \"21\", \"22\", \"23\", \"24\", \"25\", \"26\", \"27\", \"28\", \"29\", \"30\", \"31\", \"32\", \"33\", \"34\", \"35\", \"36\", \"38\", \"39\"], \"mode\": \"markers\", \"name\": \"norm_macro_recall\", \"stepped\": false, \"type\": \"scatter\", \"data\": [0.6141237212570024, 0.5529752612016864, 0.5071267350276919, 0.5508615289656458, 0.5866154981430124, 0.5455593715411388, 0.5690335120394522, 0.5685500764959969, 0.45161240375125367, 0.5564733753032985, 0.5128666143217334, 0.5713134635304835, 0.6032806840145345, 0.5417740448812555, 0.5854115206097302, 0.5958334743614423, 0.506776729703881, 0.4937966024448162, 0.5958334743614423, 0.5345337058355785, 0.4999967769200919, 0.567212101692549, 0.5576949020218965, 0.5906864331664265, 0.5202284608356714, 0.44129164060584736, 0.5923037317682974, 0.5446591156691396, 0.5421724757320004, 0.29473677514783864, 0.0, 0.5116671731926249, 0.5512277437077371, 0.49844852332992745, 0.5497001389832015, 0.5932566175677305, 0.5791473663823304, 0.6149471109334157, 0.5842578460400835]}, {\"categories\": [\"0\", \"1\", \"2\", \"3\", \"4\", \"5\", \"6\", \"7\", \"8\", \"9\", \"10\", \"11\", \"12\", \"13\", \"14\", \"15\", \"16\", \"17\", \"18\", \"19\", \"20\", \"21\", \"22\", \"23\", \"24\", \"25\", \"26\", \"27\", \"28\", \"29\", \"30\", \"31\", \"32\", \"33\", \"34\", \"35\", \"36\", \"38\", \"39\"], \"mode\": \"lines\", \"name\": \"norm_macro_recall_max\", \"stepped\": true, \"type\": \"scatter\", \"data\": [0.6141237212570024, 0.6141237212570024, 0.6141237212570024, 0.6141237212570024, 0.6141237212570024, 0.6141237212570024, 0.6141237212570024, 0.6141237212570024, 0.6141237212570024, 0.6141237212570024, 0.6141237212570024, 0.6141237212570024, 0.6141237212570024, 0.6141237212570024, 0.6141237212570024, 0.6141237212570024, 0.6141237212570024, 0.6141237212570024, 0.6141237212570024, 0.6141237212570024, 0.6141237212570024, 0.6141237212570024, 0.6141237212570024, 0.6141237212570024, 0.6141237212570024, 0.6141237212570024, 0.6141237212570024, 0.6141237212570024, 0.6141237212570024, 0.6141237212570024, 0.6141237212570024, 0.6141237212570024, 0.6141237212570024, 0.6141237212570024, 0.6141237212570024, 0.6141237212570024, 0.6141237212570024, 0.6149471109334157, 0.6149471109334157]}], \"accuracy\": [{\"categories\": [\"0\", \"1\", \"2\", \"3\", \"4\", \"5\", \"6\", \"7\", \"8\", \"9\", \"10\", \"11\", \"12\", \"13\", \"14\", \"15\", \"16\", \"17\", \"18\", \"19\", \"20\", \"21\", \"22\", \"23\", \"24\", \"25\", \"26\", \"27\", \"28\", \"29\", \"30\", \"31\", \"32\", \"33\", \"34\", \"35\", \"36\", \"38\", \"39\"], \"mode\": \"markers\", \"name\": \"accuracy\", \"stepped\": false, \"type\": \"scatter\", \"data\": [0.8233547448794086, 0.8024010557642844, 0.7829152021977134, 0.8068988270781993, 0.8023539234301565, 0.7678799876109292, 0.7964152493300475, 0.7994249855236402, 0.7784443636461574, 0.8008658883098345, 0.7978965512597799, 0.8008860878816035, 0.8203517418764056, 0.7919511439690812, 0.8038756245034272, 0.8143659354421686, 0.7904092433240416, 0.7859114720101267, 0.8143659354421686, 0.781433900267981, 0.8054107919578772, 0.8068786275064301, 0.8008591551192449, 0.8098883637000229, 0.7919511439690812, 0.7814944989832883, 0.8158539705624906, 0.7994249855236402, 0.8039092904563757, 0.7215489031632529, 0.616814123540581, 0.7829354017694824, 0.7993711199989226, 0.7844503696521633, 0.7918972784443638, 0.8158607037530805, 0.793378580374096, 0.8293674840760042, 0.8128779003218466]}, {\"categories\": [\"0\", \"1\", \"2\", \"3\", \"4\", \"5\", \"6\", \"7\", \"8\", \"9\", \"10\", \"11\", \"12\", \"13\", \"14\", \"15\", \"16\", \"17\", \"18\", \"19\", \"20\", \"21\", \"22\", \"23\", \"24\", \"25\", \"26\", \"27\", \"28\", \"29\", \"30\", \"31\", \"32\", \"33\", \"34\", \"35\", \"36\", \"38\", \"39\"], \"mode\": \"lines\", \"name\": \"accuracy_max\", \"stepped\": true, \"type\": \"scatter\", \"data\": [0.8233547448794086, 0.8233547448794086, 0.8233547448794086, 0.8233547448794086, 0.8233547448794086, 0.8233547448794086, 0.8233547448794086, 0.8233547448794086, 0.8233547448794086, 0.8233547448794086, 0.8233547448794086, 0.8233547448794086, 0.8233547448794086, 0.8233547448794086, 0.8233547448794086, 0.8233547448794086, 0.8233547448794086, 0.8233547448794086, 0.8233547448794086, 0.8233547448794086, 0.8233547448794086, 0.8233547448794086, 0.8233547448794086, 0.8233547448794086, 0.8233547448794086, 0.8233547448794086, 0.8233547448794086, 0.8233547448794086, 0.8233547448794086, 0.8233547448794086, 0.8233547448794086, 0.8233547448794086, 0.8233547448794086, 0.8233547448794086, 0.8233547448794086, 0.8233547448794086, 0.8233547448794086, 0.8293674840760042, 0.8293674840760042]}], \"matthews_correlation\": [{\"categories\": [\"0\", \"1\", \"2\", \"3\", \"4\", \"5\", \"6\", \"7\", \"8\", \"9\", \"10\", \"11\", \"12\", \"13\", \"14\", \"15\", \"16\", \"17\", \"18\", \"19\", \"20\", \"21\", \"22\", \"23\", \"24\", \"25\", \"26\", \"27\", \"28\", \"29\", \"30\", \"31\", \"32\", \"33\", \"34\", \"35\", \"36\", \"38\", \"39\"], \"mode\": \"markers\", \"name\": \"matthews_correlation\", \"stepped\": false, \"type\": \"scatter\", \"data\": [0.6224847803794181, 0.5747574059251085, 0.5362274136443591, 0.5860357341702177, 0.5847353190260794, 0.5333690102936253, 0.5717113728506036, 0.5754959911220073, 0.5340833428342241, 0.5724910343863329, 0.5684651523843275, 0.5798417334030964, 0.6142235232536649, 0.5570731839023124, 0.5894711967548351, 0.6030415024833126, 0.5551691700954895, 0.5380398132553483, 0.6030415024833126, 0.5387008093058486, 0.6034592185341493, 0.5870835794061766, 0.5766263215819802, 0.5996724529872445, 0.5545253614034173, 0.5581001625817027, 0.6064865114685102, 0.569738036909703, 0.583177695685052, 0.39651901924862926, 0.0, 0.535944433601574, 0.5700082851325533, 0.5386631826758979, 0.5592956160054786, 0.6070382820221283, 0.5723551083452545, 0.6346080933699186, 0.6001206625214729]}, {\"categories\": [\"0\", \"1\", \"2\", \"3\", \"4\", \"5\", \"6\", \"7\", \"8\", \"9\", \"10\", \"11\", \"12\", \"13\", \"14\", \"15\", \"16\", \"17\", \"18\", \"19\", \"20\", \"21\", \"22\", \"23\", \"24\", \"25\", \"26\", \"27\", \"28\", \"29\", \"30\", \"31\", \"32\", \"33\", \"34\", \"35\", \"36\", \"38\", \"39\"], \"mode\": \"lines\", \"name\": \"matthews_correlation_max\", \"stepped\": true, \"type\": \"scatter\", \"data\": [0.6224847803794181, 0.6224847803794181, 0.6224847803794181, 0.6224847803794181, 0.6224847803794181, 0.6224847803794181, 0.6224847803794181, 0.6224847803794181, 0.6224847803794181, 0.6224847803794181, 0.6224847803794181, 0.6224847803794181, 0.6224847803794181, 0.6224847803794181, 0.6224847803794181, 0.6224847803794181, 0.6224847803794181, 0.6224847803794181, 0.6224847803794181, 0.6224847803794181, 0.6224847803794181, 0.6224847803794181, 0.6224847803794181, 0.6224847803794181, 0.6224847803794181, 0.6224847803794181, 0.6224847803794181, 0.6224847803794181, 0.6224847803794181, 0.6224847803794181, 0.6224847803794181, 0.6224847803794181, 0.6224847803794181, 0.6224847803794181, 0.6224847803794181, 0.6224847803794181, 0.6224847803794181, 0.6346080933699186, 0.6346080933699186]}], \"average_precision_score_macro\": [{\"categories\": [\"0\", \"1\", \"2\", \"3\", \"4\", \"5\", \"6\", \"7\", \"8\", \"9\", \"10\", \"11\", \"12\", \"13\", \"14\", \"15\", \"16\", \"17\", \"18\", \"19\", \"20\", \"21\", \"22\", \"23\", \"24\", \"25\", \"26\", \"27\", \"28\", \"29\", \"30\", \"31\", \"32\", \"33\", \"34\", \"35\", \"36\", \"38\", \"39\"], \"mode\": \"markers\", \"name\": \"average_precision_score_macro\", \"stepped\": false, \"type\": \"scatter\", \"data\": [0.8608906817887007, 0.8506033549709578, 0.8418648925452025, 0.8544676568434295, 0.861030365788585, 0.8563486511272945, 0.8421015359965361, 0.8444054882745644, 0.8490137121675249, 0.8565520295830767, 0.8403888261499546, 0.8526075235382274, 0.85765714705003, 0.8581623823803805, 0.8389031552591133, 0.8477168678674939, 0.8461799050319492, 0.8426712099037933, 0.8513048863787199, 0.8586509144548273, 0.8431225772326343, 0.8518116720244056, 0.8527146543257901, 0.8388419516111801, 0.828708041095096, 0.8544231526410914, 0.8648213875925452, 0.8534207058441098, 0.8464215465727497, 0.8104254292915677, 0.8266429319127216, 0.8608597387442499, 0.8501201490839311, 0.8336763806446181, 0.8522681023309339, 0.8674440341683538, 0.8537141557189315, 0.8659170086919644, 0.8659673690204447]}, {\"categories\": [\"0\", \"1\", \"2\", \"3\", \"4\", \"5\", \"6\", \"7\", \"8\", \"9\", \"10\", \"11\", \"12\", \"13\", \"14\", \"15\", \"16\", \"17\", \"18\", \"19\", \"20\", \"21\", \"22\", \"23\", \"24\", \"25\", \"26\", \"27\", \"28\", \"29\", \"30\", \"31\", \"32\", \"33\", \"34\", \"35\", \"36\", \"38\", \"39\"], \"mode\": \"lines\", \"name\": \"average_precision_score_macro_max\", \"stepped\": true, \"type\": \"scatter\", \"data\": [0.8608906817887007, 0.8608906817887007, 0.8608906817887007, 0.8608906817887007, 0.861030365788585, 0.861030365788585, 0.861030365788585, 0.861030365788585, 0.861030365788585, 0.861030365788585, 0.861030365788585, 0.861030365788585, 0.861030365788585, 0.861030365788585, 0.861030365788585, 0.861030365788585, 0.861030365788585, 0.861030365788585, 0.861030365788585, 0.861030365788585, 0.861030365788585, 0.861030365788585, 0.861030365788585, 0.861030365788585, 0.861030365788585, 0.861030365788585, 0.8648213875925452, 0.8648213875925452, 0.8648213875925452, 0.8648213875925452, 0.8648213875925452, 0.8648213875925452, 0.8648213875925452, 0.8648213875925452, 0.8648213875925452, 0.8674440341683538, 0.8674440341683538, 0.8674440341683538, 0.8674440341683538]}], \"precision_score_macro\": [{\"categories\": [\"0\", \"1\", \"2\", \"3\", \"4\", \"5\", \"6\", \"7\", \"8\", \"9\", \"10\", \"11\", \"12\", \"13\", \"14\", \"15\", \"16\", \"17\", \"18\", \"19\", \"20\", \"21\", \"22\", \"23\", \"24\", \"25\", \"26\", \"27\", \"28\", \"29\", \"30\", \"31\", \"32\", \"33\", \"34\", \"35\", \"36\", \"38\", \"39\"], \"mode\": \"markers\", \"name\": \"precision_score_macro\", \"stepped\": false, \"type\": \"scatter\", \"data\": [0.8155052445326176, 0.7988093928867762, 0.7838668496016062, 0.812317008340274, 0.7915153490268025, 0.760791147847771, 0.7873937162285426, 0.7914735962155698, 0.8171526223820978, 0.7945974966670531, 0.8151582571644904, 0.7945471303753342, 0.8126855789884734, 0.7867182638796139, 0.7970899459658606, 0.8051896054206275, 0.8053162296868236, 0.7933656124787968, 0.8051896054206275, 0.7716564954495961, 0.8643711150615564, 0.804000866191512, 0.798443075739899, 0.8047442207349661, 0.7961821853568051, 0.8552084875400938, 0.8106183352521045, 0.7981880385599635, 0.8143412834705308, 0.7702498765844826, 0.3084070617702905, 0.7811818131710092, 0.7949159698823908, 0.7919657011382558, 0.7847887172003376, 0.8107133950687618, 0.7829078119970937, 0.827511183408341, 0.8083433110764102]}, {\"categories\": [\"0\", \"1\", \"2\", \"3\", \"4\", \"5\", \"6\", \"7\", \"8\", \"9\", \"10\", \"11\", \"12\", \"13\", \"14\", \"15\", \"16\", \"17\", \"18\", \"19\", \"20\", \"21\", \"22\", \"23\", \"24\", \"25\", \"26\", \"27\", \"28\", \"29\", \"30\", \"31\", \"32\", \"33\", \"34\", \"35\", \"36\", \"38\", \"39\"], \"mode\": \"lines\", \"name\": \"precision_score_macro_max\", \"stepped\": true, \"type\": \"scatter\", \"data\": [0.8155052445326176, 0.8155052445326176, 0.8155052445326176, 0.8155052445326176, 0.8155052445326176, 0.8155052445326176, 0.8155052445326176, 0.8155052445326176, 0.8171526223820978, 0.8171526223820978, 0.8171526223820978, 0.8171526223820978, 0.8171526223820978, 0.8171526223820978, 0.8171526223820978, 0.8171526223820978, 0.8171526223820978, 0.8171526223820978, 0.8171526223820978, 0.8171526223820978, 0.8643711150615564, 0.8643711150615564, 0.8643711150615564, 0.8643711150615564, 0.8643711150615564, 0.8643711150615564, 0.8643711150615564, 0.8643711150615564, 0.8643711150615564, 0.8643711150615564, 0.8643711150615564, 0.8643711150615564, 0.8643711150615564, 0.8643711150615564, 0.8643711150615564, 0.8643711150615564, 0.8643711150615564, 0.8643711150615564, 0.8643711150615564]}], \"recall_score_micro\": [{\"categories\": [\"0\", \"1\", \"2\", \"3\", \"4\", \"5\", \"6\", \"7\", \"8\", \"9\", \"10\", \"11\", \"12\", \"13\", \"14\", \"15\", \"16\", \"17\", \"18\", \"19\", \"20\", \"21\", \"22\", \"23\", \"24\", \"25\", \"26\", \"27\", \"28\", \"29\", \"30\", \"31\", \"32\", \"33\", \"34\", \"35\", \"36\", \"38\", \"39\"], \"mode\": \"markers\", \"name\": \"recall_score_micro\", \"stepped\": false, \"type\": \"scatter\", \"data\": [0.8233547448794086, 0.8024010557642844, 0.7829152021977134, 0.8068988270781993, 0.8023539234301565, 0.7678799876109292, 0.7964152493300475, 0.7994249855236402, 0.7784443636461574, 0.8008658883098345, 0.7978965512597799, 0.8008860878816035, 0.8203517418764056, 0.7919511439690812, 0.8038756245034272, 0.8143659354421686, 0.7904092433240416, 0.7859114720101267, 0.8143659354421686, 0.781433900267981, 0.8054107919578772, 0.8068786275064301, 0.8008591551192449, 0.8098883637000229, 0.7919511439690812, 0.7814944989832883, 0.8158539705624906, 0.7994249855236402, 0.8039092904563757, 0.7215489031632529, 0.616814123540581, 0.7829354017694824, 0.7993711199989226, 0.7844503696521633, 0.7918972784443638, 0.8158607037530805, 0.793378580374096, 0.8293674840760042, 0.8128779003218466]}, {\"categories\": [\"0\", \"1\", \"2\", \"3\", \"4\", \"5\", \"6\", \"7\", \"8\", \"9\", \"10\", \"11\", \"12\", \"13\", \"14\", \"15\", \"16\", \"17\", \"18\", \"19\", \"20\", \"21\", \"22\", \"23\", \"24\", \"25\", \"26\", \"27\", \"28\", \"29\", \"30\", \"31\", \"32\", \"33\", \"34\", \"35\", \"36\", \"38\", \"39\"], \"mode\": \"lines\", \"name\": \"recall_score_micro_max\", \"stepped\": true, \"type\": \"scatter\", \"data\": [0.8233547448794086, 0.8233547448794086, 0.8233547448794086, 0.8233547448794086, 0.8233547448794086, 0.8233547448794086, 0.8233547448794086, 0.8233547448794086, 0.8233547448794086, 0.8233547448794086, 0.8233547448794086, 0.8233547448794086, 0.8233547448794086, 0.8233547448794086, 0.8233547448794086, 0.8233547448794086, 0.8233547448794086, 0.8233547448794086, 0.8233547448794086, 0.8233547448794086, 0.8233547448794086, 0.8233547448794086, 0.8233547448794086, 0.8233547448794086, 0.8233547448794086, 0.8233547448794086, 0.8233547448794086, 0.8233547448794086, 0.8233547448794086, 0.8233547448794086, 0.8233547448794086, 0.8233547448794086, 0.8233547448794086, 0.8233547448794086, 0.8233547448794086, 0.8233547448794086, 0.8233547448794086, 0.8293674840760042, 0.8293674840760042]}], \"log_loss\": [{\"categories\": [\"0\", \"1\", \"2\", \"3\", \"4\", \"5\", \"6\", \"7\", \"8\", \"9\", \"10\", \"11\", \"12\", \"13\", \"14\", \"15\", \"16\", \"17\", \"18\", \"19\", \"20\", \"21\", \"22\", \"23\", \"24\", \"25\", \"26\", \"27\", \"28\", \"29\", \"30\", \"31\", \"32\", \"33\", \"34\", \"35\", \"36\", \"38\", \"39\"], \"mode\": \"markers\", \"name\": \"log_loss\", \"stepped\": false, \"type\": \"scatter\", \"data\": [0.469758194305353, 0.44217222118097776, 0.48295127042384206, 0.47537103953910664, 0.4621729987106404, 0.5061685733317903, 0.48932608743151146, 0.45488616366600193, 0.5414320280926325, 0.43963148166986477, 0.5249122492015493, 0.4702194568509888, 0.4389948277164795, 0.43866772572098484, 0.5329234948700166, 0.4622817123999046, 0.4993456289629605, 0.5177983029355121, 0.4550521977513742, 0.4545059656434331, 0.5152566685666363, 0.4416394407108694, 0.4359952041673339, 0.48856976110541056, 0.4655034325365179, 0.5603899195945741, 0.4330656664853425, 0.46246253570026613, 0.45470969115591514, 0.5801520964665458, 0.625347653645392, 0.4323956424954245, 0.4826015904961239, 0.4759785529717106, 0.4526500414769732, 0.42248349950495956, 0.46094970097380844, 0.4219744555043812, 0.4292795172901444]}, {\"categories\": [\"0\", \"1\", \"2\", \"3\", \"4\", \"5\", \"6\", \"7\", \"8\", \"9\", \"10\", \"11\", \"12\", \"13\", \"14\", \"15\", \"16\", \"17\", \"18\", \"19\", \"20\", \"21\", \"22\", \"23\", \"24\", \"25\", \"26\", \"27\", \"28\", \"29\", \"30\", \"31\", \"32\", \"33\", \"34\", \"35\", \"36\", \"38\", \"39\"], \"mode\": \"lines\", \"name\": \"log_loss_min\", \"stepped\": true, \"type\": \"scatter\", \"data\": [0.469758194305353, 0.44217222118097776, 0.44217222118097776, 0.44217222118097776, 0.44217222118097776, 0.44217222118097776, 0.44217222118097776, 0.44217222118097776, 0.44217222118097776, 0.43963148166986477, 0.43963148166986477, 0.43963148166986477, 0.4389948277164795, 0.43866772572098484, 0.43866772572098484, 0.43866772572098484, 0.43866772572098484, 0.43866772572098484, 0.43866772572098484, 0.43866772572098484, 0.43866772572098484, 0.43866772572098484, 0.4359952041673339, 0.4359952041673339, 0.4359952041673339, 0.4359952041673339, 0.4330656664853425, 0.4330656664853425, 0.4330656664853425, 0.4330656664853425, 0.4330656664853425, 0.4323956424954245, 0.4323956424954245, 0.4323956424954245, 0.4323956424954245, 0.42248349950495956, 0.42248349950495956, 0.4219744555043812, 0.4219744555043812]}], \"AUC_micro\": [{\"categories\": [\"0\", \"1\", \"2\", \"3\", \"4\", \"5\", \"6\", \"7\", \"8\", \"9\", \"10\", \"11\", \"12\", \"13\", \"14\", \"15\", \"16\", \"17\", \"18\", \"19\", \"20\", \"21\", \"22\", \"23\", \"24\", \"25\", \"26\", \"27\", \"28\", \"29\", \"30\", \"31\", \"32\", \"33\", \"34\", \"35\", \"36\", \"38\", \"39\"], \"mode\": \"markers\", \"name\": \"AUC_micro\", \"stepped\": false, \"type\": \"scatter\", \"data\": [0.8827372140188415, 0.8799207902758607, 0.8580852789660472, 0.8743959473505504, 0.8787609754155188, 0.8630129729179825, 0.8662282170886645, 0.8680337745218045, 0.8409790416654103, 0.8755210824575429, 0.8671298380408242, 0.8748083254205082, 0.8797142381686829, 0.8772621971935223, 0.8637551138457402, 0.8728111500550281, 0.8567316593077026, 0.8543761080845864, 0.8744192640797372, 0.8699219618559196, 0.8533968503412348, 0.8745502978495799, 0.8787420615232763, 0.8662555132632411, 0.8694704852827825, 0.8259015959131667, 0.8823570498850518, 0.8715557528851257, 0.8746365289589022, 0.7988253929023168, 0.7742637515048577, 0.8815155135395977, 0.8809711787524505, 0.8650146720311338, 0.8716079697261213, 0.8885470478791412, 0.867133757234862, 0.8885492721468845, 0.887971528189075]}, {\"categories\": [\"0\", \"1\", \"2\", \"3\", \"4\", \"5\", \"6\", \"7\", \"8\", \"9\", \"10\", \"11\", \"12\", \"13\", \"14\", \"15\", \"16\", \"17\", \"18\", \"19\", \"20\", \"21\", \"22\", \"23\", \"24\", \"25\", \"26\", \"27\", \"28\", \"29\", \"30\", \"31\", \"32\", \"33\", \"34\", \"35\", \"36\", \"38\", \"39\"], \"mode\": \"lines\", \"name\": \"AUC_micro_max\", \"stepped\": true, \"type\": \"scatter\", \"data\": [0.8827372140188415, 0.8827372140188415, 0.8827372140188415, 0.8827372140188415, 0.8827372140188415, 0.8827372140188415, 0.8827372140188415, 0.8827372140188415, 0.8827372140188415, 0.8827372140188415, 0.8827372140188415, 0.8827372140188415, 0.8827372140188415, 0.8827372140188415, 0.8827372140188415, 0.8827372140188415, 0.8827372140188415, 0.8827372140188415, 0.8827372140188415, 0.8827372140188415, 0.8827372140188415, 0.8827372140188415, 0.8827372140188415, 0.8827372140188415, 0.8827372140188415, 0.8827372140188415, 0.8827372140188415, 0.8827372140188415, 0.8827372140188415, 0.8827372140188415, 0.8827372140188415, 0.8827372140188415, 0.8827372140188415, 0.8827372140188415, 0.8827372140188415, 0.8885470478791412, 0.8885470478791412, 0.8885492721468845, 0.8885492721468845]}], \"precision_score_weighted\": [{\"categories\": [\"0\", \"1\", \"2\", \"3\", \"4\", \"5\", \"6\", \"7\", \"8\", \"9\", \"10\", \"11\", \"12\", \"13\", \"14\", \"15\", \"16\", \"17\", \"18\", \"19\", \"20\", \"21\", \"22\", \"23\", \"24\", \"25\", \"26\", \"27\", \"28\", \"29\", \"30\", \"31\", \"32\", \"33\", \"34\", \"35\", \"36\", \"38\", \"39\"], \"mode\": \"markers\", \"name\": \"precision_score_weighted\", \"stepped\": false, \"type\": \"scatter\", \"data\": [0.8229369980802043, 0.8026548748976697, 0.7869584193364697, 0.8111430846283872, 0.8056598235228304, 0.7841929723152851, 0.7998571802799003, 0.8016351398743927, 0.8044723793238656, 0.8014284554028515, 0.8089671115996988, 0.8046615430556928, 0.8192700653782974, 0.7940204211081502, 0.8091877799844734, 0.8136744541053967, 0.8029561276114583, 0.7916263602265824, 0.8136744541053967, 0.784362360174126, 0.8415930734939256, 0.808954411337054, 0.8050732694288211, 0.8141779381717905, 0.7961511903382351, 0.8304040606113144, 0.8170175392796359, 0.8011352035815005, 0.8124062924582568, 0.7567457064079796, 0.38118087739468054, 0.786529673714802, 0.8011664669788173, 0.7912526004023023, 0.7952138103464051, 0.8172971911843692, 0.8000922594446104, 0.8300729642566719, 0.8139580763712972]}, {\"categories\": [\"0\", \"1\", \"2\", \"3\", \"4\", \"5\", \"6\", \"7\", \"8\", \"9\", \"10\", \"11\", \"12\", \"13\", \"14\", \"15\", \"16\", \"17\", \"18\", \"19\", \"20\", \"21\", \"22\", \"23\", \"24\", \"25\", \"26\", \"27\", \"28\", \"29\", \"30\", \"31\", \"32\", \"33\", \"34\", \"35\", \"36\", \"38\", \"39\"], \"mode\": \"lines\", \"name\": \"precision_score_weighted_max\", \"stepped\": true, \"type\": \"scatter\", \"data\": [0.8229369980802043, 0.8229369980802043, 0.8229369980802043, 0.8229369980802043, 0.8229369980802043, 0.8229369980802043, 0.8229369980802043, 0.8229369980802043, 0.8229369980802043, 0.8229369980802043, 0.8229369980802043, 0.8229369980802043, 0.8229369980802043, 0.8229369980802043, 0.8229369980802043, 0.8229369980802043, 0.8229369980802043, 0.8229369980802043, 0.8229369980802043, 0.8229369980802043, 0.8415930734939256, 0.8415930734939256, 0.8415930734939256, 0.8415930734939256, 0.8415930734939256, 0.8415930734939256, 0.8415930734939256, 0.8415930734939256, 0.8415930734939256, 0.8415930734939256, 0.8415930734939256, 0.8415930734939256, 0.8415930734939256, 0.8415930734939256, 0.8415930734939256, 0.8415930734939256, 0.8415930734939256, 0.8415930734939256, 0.8415930734939256]}], \"precision_score_micro\": [{\"categories\": [\"0\", \"1\", \"2\", \"3\", \"4\", \"5\", \"6\", \"7\", \"8\", \"9\", \"10\", \"11\", \"12\", \"13\", \"14\", \"15\", \"16\", \"17\", \"18\", \"19\", \"20\", \"21\", \"22\", \"23\", \"24\", \"25\", \"26\", \"27\", \"28\", \"29\", \"30\", \"31\", \"32\", \"33\", \"34\", \"35\", \"36\", \"38\", \"39\"], \"mode\": \"markers\", \"name\": \"precision_score_micro\", \"stepped\": false, \"type\": \"scatter\", \"data\": [0.8233547448794086, 0.8024010557642844, 0.7829152021977134, 0.8068988270781993, 0.8023539234301565, 0.7678799876109292, 0.7964152493300475, 0.7994249855236402, 0.7784443636461574, 0.8008658883098345, 0.7978965512597799, 0.8008860878816035, 0.8203517418764056, 0.7919511439690812, 0.8038756245034272, 0.8143659354421686, 0.7904092433240416, 0.7859114720101267, 0.8143659354421686, 0.781433900267981, 0.8054107919578772, 0.8068786275064301, 0.8008591551192449, 0.8098883637000229, 0.7919511439690812, 0.7814944989832883, 0.8158539705624906, 0.7994249855236402, 0.8039092904563757, 0.7215489031632529, 0.616814123540581, 0.7829354017694824, 0.7993711199989226, 0.7844503696521633, 0.7918972784443638, 0.8158607037530805, 0.793378580374096, 0.8293674840760042, 0.8128779003218466]}, {\"categories\": [\"0\", \"1\", \"2\", \"3\", \"4\", \"5\", \"6\", \"7\", \"8\", \"9\", \"10\", \"11\", \"12\", \"13\", \"14\", \"15\", \"16\", \"17\", \"18\", \"19\", \"20\", \"21\", \"22\", \"23\", \"24\", \"25\", \"26\", \"27\", \"28\", \"29\", \"30\", \"31\", \"32\", \"33\", \"34\", \"35\", \"36\", \"38\", \"39\"], \"mode\": \"lines\", \"name\": \"precision_score_micro_max\", \"stepped\": true, \"type\": \"scatter\", \"data\": [0.8233547448794086, 0.8233547448794086, 0.8233547448794086, 0.8233547448794086, 0.8233547448794086, 0.8233547448794086, 0.8233547448794086, 0.8233547448794086, 0.8233547448794086, 0.8233547448794086, 0.8233547448794086, 0.8233547448794086, 0.8233547448794086, 0.8233547448794086, 0.8233547448794086, 0.8233547448794086, 0.8233547448794086, 0.8233547448794086, 0.8233547448794086, 0.8233547448794086, 0.8233547448794086, 0.8233547448794086, 0.8233547448794086, 0.8233547448794086, 0.8233547448794086, 0.8233547448794086, 0.8233547448794086, 0.8233547448794086, 0.8233547448794086, 0.8233547448794086, 0.8233547448794086, 0.8233547448794086, 0.8233547448794086, 0.8233547448794086, 0.8233547448794086, 0.8233547448794086, 0.8233547448794086, 0.8293674840760042, 0.8293674840760042]}], \"f1_score_micro\": [{\"categories\": [\"0\", \"1\", \"2\", \"3\", \"4\", \"5\", \"6\", \"7\", \"8\", \"9\", \"10\", \"11\", \"12\", \"13\", \"14\", \"15\", \"16\", \"17\", \"18\", \"19\", \"20\", \"21\", \"22\", \"23\", \"24\", \"25\", \"26\", \"27\", \"28\", \"29\", \"30\", \"31\", \"32\", \"33\", \"34\", \"35\", \"36\", \"38\", \"39\"], \"mode\": \"markers\", \"name\": \"f1_score_micro\", \"stepped\": false, \"type\": \"scatter\", \"data\": [0.8233547448794086, 0.8024010557642844, 0.7829152021977134, 0.8068988270781993, 0.8023539234301565, 0.7678799876109292, 0.7964152493300475, 0.7994249855236402, 0.7784443636461574, 0.8008658883098345, 0.7978965512597799, 0.8008860878816035, 0.8203517418764056, 0.7919511439690812, 0.8038756245034272, 0.8143659354421687, 0.7904092433240416, 0.7859114720101267, 0.8143659354421687, 0.7814339002679809, 0.8054107919578772, 0.8068786275064301, 0.8008591551192449, 0.8098883637000229, 0.7919511439690812, 0.7814944989832883, 0.8158539705624906, 0.7994249855236402, 0.8039092904563755, 0.7215489031632529, 0.616814123540581, 0.7829354017694824, 0.7993711199989226, 0.7844503696521633, 0.7918972784443636, 0.8158607037530805, 0.793378580374096, 0.8293674840760042, 0.8128779003218466]}, {\"categories\": [\"0\", \"1\", \"2\", \"3\", \"4\", \"5\", \"6\", \"7\", \"8\", \"9\", \"10\", \"11\", \"12\", \"13\", \"14\", \"15\", \"16\", \"17\", \"18\", \"19\", \"20\", \"21\", \"22\", \"23\", \"24\", \"25\", \"26\", \"27\", \"28\", \"29\", \"30\", \"31\", \"32\", \"33\", \"34\", \"35\", \"36\", \"38\", \"39\"], \"mode\": \"lines\", \"name\": \"f1_score_micro_max\", \"stepped\": true, \"type\": \"scatter\", \"data\": [0.8233547448794086, 0.8233547448794086, 0.8233547448794086, 0.8233547448794086, 0.8233547448794086, 0.8233547448794086, 0.8233547448794086, 0.8233547448794086, 0.8233547448794086, 0.8233547448794086, 0.8233547448794086, 0.8233547448794086, 0.8233547448794086, 0.8233547448794086, 0.8233547448794086, 0.8233547448794086, 0.8233547448794086, 0.8233547448794086, 0.8233547448794086, 0.8233547448794086, 0.8233547448794086, 0.8233547448794086, 0.8233547448794086, 0.8233547448794086, 0.8233547448794086, 0.8233547448794086, 0.8233547448794086, 0.8233547448794086, 0.8233547448794086, 0.8233547448794086, 0.8233547448794086, 0.8233547448794086, 0.8233547448794086, 0.8233547448794086, 0.8233547448794086, 0.8233547448794086, 0.8233547448794086, 0.8293674840760042, 0.8293674840760042]}], \"average_precision_score_weighted\": [{\"categories\": [\"0\", \"1\", \"2\", \"3\", \"4\", \"5\", \"6\", \"7\", \"8\", \"9\", \"10\", \"11\", \"12\", \"13\", \"14\", \"15\", \"16\", \"17\", \"18\", \"19\", \"20\", \"21\", \"22\", \"23\", \"24\", \"25\", \"26\", \"27\", \"28\", \"29\", \"30\", \"31\", \"32\", \"33\", \"34\", \"35\", \"36\", \"38\", \"39\"], \"mode\": \"markers\", \"name\": \"average_precision_score_weighted\", \"stepped\": false, \"type\": \"scatter\", \"data\": [0.8683015594007298, 0.8582992975411633, 0.8496815387350901, 0.8612694688620625, 0.8669687624145213, 0.8631034368622864, 0.8491412808077907, 0.8504966467132856, 0.8569897388128015, 0.8614603536723416, 0.846527753260252, 0.859158414660164, 0.8654635621707043, 0.8642584241353438, 0.8478387216334511, 0.8561580994138764, 0.8538371398749295, 0.8498665339433189, 0.8593662996136855, 0.8651817739479353, 0.8492413393234592, 0.8589150588247124, 0.8578669608946424, 0.8474689341021319, 0.8353104533231533, 0.8614315190518568, 0.8723916852022953, 0.8599486055735883, 0.8515586656268366, 0.8206729206641709, 0.8355379095229406, 0.8675553818662918, 0.8551289695278106, 0.8404887125595448, 0.8559911031256132, 0.8747334099195584, 0.8617563929356367, 0.8740413880785805, 0.8736943475508526]}, {\"categories\": [\"0\", \"1\", \"2\", \"3\", \"4\", \"5\", \"6\", \"7\", \"8\", \"9\", \"10\", \"11\", \"12\", \"13\", \"14\", \"15\", \"16\", \"17\", \"18\", \"19\", \"20\", \"21\", \"22\", \"23\", \"24\", \"25\", \"26\", \"27\", \"28\", \"29\", \"30\", \"31\", \"32\", \"33\", \"34\", \"35\", \"36\", \"38\", \"39\"], \"mode\": \"lines\", \"name\": \"average_precision_score_weighted_max\", \"stepped\": true, \"type\": \"scatter\", \"data\": [0.8683015594007298, 0.8683015594007298, 0.8683015594007298, 0.8683015594007298, 0.8683015594007298, 0.8683015594007298, 0.8683015594007298, 0.8683015594007298, 0.8683015594007298, 0.8683015594007298, 0.8683015594007298, 0.8683015594007298, 0.8683015594007298, 0.8683015594007298, 0.8683015594007298, 0.8683015594007298, 0.8683015594007298, 0.8683015594007298, 0.8683015594007298, 0.8683015594007298, 0.8683015594007298, 0.8683015594007298, 0.8683015594007298, 0.8683015594007298, 0.8683015594007298, 0.8683015594007298, 0.8723916852022953, 0.8723916852022953, 0.8723916852022953, 0.8723916852022953, 0.8723916852022953, 0.8723916852022953, 0.8723916852022953, 0.8723916852022953, 0.8723916852022953, 0.8747334099195584, 0.8747334099195584, 0.8747334099195584, 0.8747334099195584]}], \"AUC_weighted\": [{\"categories\": [\"0\", \"1\", \"2\", \"3\", \"4\", \"5\", \"6\", \"7\", \"8\", \"9\", \"10\", \"11\", \"12\", \"13\", \"14\", \"15\", \"16\", \"17\", \"18\", \"19\", \"20\", \"21\", \"22\", \"23\", \"24\", \"25\", \"26\", \"27\", \"28\", \"29\", \"30\", \"31\", \"32\", \"33\", \"34\", \"35\", \"36\", \"38\", \"39\"], \"mode\": \"markers\", \"name\": \"AUC_weighted\", \"stepped\": false, \"type\": \"scatter\", \"data\": [0.8665754699585447, 0.8612835982820582, 0.8428839855130804, 0.8574166141434897, 0.862500136865821, 0.8598423583390273, 0.8521982078285016, 0.8514914787584636, 0.8463464202815502, 0.8576453837719583, 0.8467440228369951, 0.8570098494129273, 0.8621921446971119, 0.858145099737429, 0.8491434412958353, 0.8563596500892826, 0.8476761429818968, 0.8444059959217022, 0.857188039897714, 0.8581701008871999, 0.847067696303097, 0.8573748781477963, 0.8579987798913974, 0.8503690720303417, 0.8474340148575464, 0.8559041554950858, 0.8663954556571193, 0.8563266923588543, 0.852669763222815, 0.8200081555869891, 0.8329845534360599, 0.8599249993418688, 0.8565075611535097, 0.8455596225026175, 0.8598790601698778, 0.873596889062902, 0.8595784585106664, 0.8723945690995817, 0.875729949005411]}, {\"categories\": [\"0\", \"1\", \"2\", \"3\", \"4\", \"5\", \"6\", \"7\", \"8\", \"9\", \"10\", \"11\", \"12\", \"13\", \"14\", \"15\", \"16\", \"17\", \"18\", \"19\", \"20\", \"21\", \"22\", \"23\", \"24\", \"25\", \"26\", \"27\", \"28\", \"29\", \"30\", \"31\", \"32\", \"33\", \"34\", \"35\", \"36\", \"38\", \"39\"], \"mode\": \"lines\", \"name\": \"AUC_weighted_max\", \"stepped\": true, \"type\": \"scatter\", \"data\": [0.8665754699585447, 0.8665754699585447, 0.8665754699585447, 0.8665754699585447, 0.8665754699585447, 0.8665754699585447, 0.8665754699585447, 0.8665754699585447, 0.8665754699585447, 0.8665754699585447, 0.8665754699585447, 0.8665754699585447, 0.8665754699585447, 0.8665754699585447, 0.8665754699585447, 0.8665754699585447, 0.8665754699585447, 0.8665754699585447, 0.8665754699585447, 0.8665754699585447, 0.8665754699585447, 0.8665754699585447, 0.8665754699585447, 0.8665754699585447, 0.8665754699585447, 0.8665754699585447, 0.8665754699585447, 0.8665754699585447, 0.8665754699585447, 0.8665754699585447, 0.8665754699585447, 0.8665754699585447, 0.8665754699585447, 0.8665754699585447, 0.8665754699585447, 0.873596889062902, 0.873596889062902, 0.873596889062902, 0.875729949005411]}], \"balanced_accuracy\": [{\"categories\": [\"0\", \"1\", \"2\", \"3\", \"4\", \"5\", \"6\", \"7\", \"8\", \"9\", \"10\", \"11\", \"12\", \"13\", \"14\", \"15\", \"16\", \"17\", \"18\", \"19\", \"20\", \"21\", \"22\", \"23\", \"24\", \"25\", \"26\", \"27\", \"28\", \"29\", \"30\", \"31\", \"32\", \"33\", \"34\", \"35\", \"36\", \"38\", \"39\"], \"mode\": \"markers\", \"name\": \"balanced_accuracy\", \"stepped\": false, \"type\": \"scatter\", \"data\": [0.8070618606285013, 0.7764876306008431, 0.7535633675138459, 0.7754307644828229, 0.7933077490715063, 0.7727796857705694, 0.784516756019726, 0.7842750382479985, 0.7258062018756268, 0.7782366876516492, 0.7564333071608668, 0.7856567317652418, 0.8016403420072672, 0.7708870224406278, 0.7927057603048651, 0.7979167371807211, 0.7533883648519405, 0.7468983012224081, 0.7979167371807211, 0.7672668529177892, 0.749998388460046, 0.7836060508462745, 0.7788474510109483, 0.7953432165832132, 0.7601142304178357, 0.7206458203029237, 0.7961518658841488, 0.7723295578345698, 0.7710862378660002, 0.6473683875739193, 0.5, 0.7558335865963124, 0.7756138718538685, 0.7492242616649637, 0.7748500694916007, 0.7966283087838653, 0.7895736831911652, 0.8074735554667077, 0.7921289230200417]}, {\"categories\": [\"0\", \"1\", \"2\", \"3\", \"4\", \"5\", \"6\", \"7\", \"8\", \"9\", \"10\", \"11\", \"12\", \"13\", \"14\", \"15\", \"16\", \"17\", \"18\", \"19\", \"20\", \"21\", \"22\", \"23\", \"24\", \"25\", \"26\", \"27\", \"28\", \"29\", \"30\", \"31\", \"32\", \"33\", \"34\", \"35\", \"36\", \"38\", \"39\"], \"mode\": \"lines\", \"name\": \"balanced_accuracy_max\", \"stepped\": true, \"type\": \"scatter\", \"data\": [0.8070618606285013, 0.8070618606285013, 0.8070618606285013, 0.8070618606285013, 0.8070618606285013, 0.8070618606285013, 0.8070618606285013, 0.8070618606285013, 0.8070618606285013, 0.8070618606285013, 0.8070618606285013, 0.8070618606285013, 0.8070618606285013, 0.8070618606285013, 0.8070618606285013, 0.8070618606285013, 0.8070618606285013, 0.8070618606285013, 0.8070618606285013, 0.8070618606285013, 0.8070618606285013, 0.8070618606285013, 0.8070618606285013, 0.8070618606285013, 0.8070618606285013, 0.8070618606285013, 0.8070618606285013, 0.8070618606285013, 0.8070618606285013, 0.8070618606285013, 0.8070618606285013, 0.8070618606285013, 0.8070618606285013, 0.8070618606285013, 0.8070618606285013, 0.8070618606285013, 0.8070618606285013, 0.8074735554667077, 0.8074735554667077]}], \"f1_score_weighted\": [{\"categories\": [\"0\", \"1\", \"2\", \"3\", \"4\", \"5\", \"6\", \"7\", \"8\", \"9\", \"10\", \"11\", \"12\", \"13\", \"14\", \"15\", \"16\", \"17\", \"18\", \"19\", \"20\", \"21\", \"22\", \"23\", \"24\", \"25\", \"26\", \"27\", \"28\", \"29\", \"30\", \"31\", \"32\", \"33\", \"34\", \"35\", \"36\", \"38\", \"39\"], \"mode\": \"markers\", \"name\": \"f1_score_weighted\", \"stepped\": false, \"type\": \"scatter\", \"data\": [0.8221596976935565, 0.7985287268897636, 0.7774077917820819, 0.8009792009118423, 0.8029621987165477, 0.7710522505508454, 0.7960550092943893, 0.7980696021614097, 0.7589273266262352, 0.798168842028432, 0.7877485162014987, 0.7995063418263907, 0.8187510882832608, 0.7886971396131693, 0.8033721590173216, 0.8132750531764613, 0.780487458195489, 0.7766543061532111, 0.8132750531764613, 0.7805799960578536, 0.787997551020777, 0.8036881394606966, 0.7981482150241845, 0.8085324418232614, 0.7855676907083096, 0.7550148018275502, 0.8138526887308863, 0.7946478034046794, 0.796820634033455, 0.6814726409786246, 0.4709708832351052, 0.7776959364833393, 0.7962534532773496, 0.7759952737272476, 0.7904510207825811, 0.8139208734889927, 0.7948444886205889, 0.8267611486901312, 0.8102881214174847]}, {\"categories\": [\"0\", \"1\", \"2\", \"3\", \"4\", \"5\", \"6\", \"7\", \"8\", \"9\", \"10\", \"11\", \"12\", \"13\", \"14\", \"15\", \"16\", \"17\", \"18\", \"19\", \"20\", \"21\", \"22\", \"23\", \"24\", \"25\", \"26\", \"27\", \"28\", \"29\", \"30\", \"31\", \"32\", \"33\", \"34\", \"35\", \"36\", \"38\", \"39\"], \"mode\": \"lines\", \"name\": \"f1_score_weighted_max\", \"stepped\": true, \"type\": \"scatter\", \"data\": [0.8221596976935565, 0.8221596976935565, 0.8221596976935565, 0.8221596976935565, 0.8221596976935565, 0.8221596976935565, 0.8221596976935565, 0.8221596976935565, 0.8221596976935565, 0.8221596976935565, 0.8221596976935565, 0.8221596976935565, 0.8221596976935565, 0.8221596976935565, 0.8221596976935565, 0.8221596976935565, 0.8221596976935565, 0.8221596976935565, 0.8221596976935565, 0.8221596976935565, 0.8221596976935565, 0.8221596976935565, 0.8221596976935565, 0.8221596976935565, 0.8221596976935565, 0.8221596976935565, 0.8221596976935565, 0.8221596976935565, 0.8221596976935565, 0.8221596976935565, 0.8221596976935565, 0.8221596976935565, 0.8221596976935565, 0.8221596976935565, 0.8221596976935565, 0.8221596976935565, 0.8221596976935565, 0.8267611486901312, 0.8267611486901312]}], \"f1_score_macro\": [{\"categories\": [\"0\", \"1\", \"2\", \"3\", \"4\", \"5\", \"6\", \"7\", \"8\", \"9\", \"10\", \"11\", \"12\", \"13\", \"14\", \"15\", \"16\", \"17\", \"18\", \"19\", \"20\", \"21\", \"22\", \"23\", \"24\", \"25\", \"26\", \"27\", \"28\", \"29\", \"30\", \"31\", \"32\", \"33\", \"34\", \"35\", \"36\", \"38\", \"39\"], \"mode\": \"markers\", \"name\": \"f1_score_macro\", \"stepped\": false, \"type\": \"scatter\", \"data\": [0.81022357448948, 0.7832007020919219, 0.7602920531044312, 0.7845046248760542, 0.7912590998534617, 0.7613834344740479, 0.7836946265602142, 0.7852149237782319, 0.7341146448795329, 0.7831733381913669, 0.7679981903871701, 0.7865497558959463, 0.8060050146584313, 0.7741493347431394, 0.7914476894438848, 0.8007451758433084, 0.7612196448268443, 0.7564285209444132, 0.8007451758433084, 0.7669527693130744, 0.7651772369674109, 0.789191492934551, 0.7833972493408047, 0.7962369423240255, 0.7682993034810434, 0.7282271326627595, 0.8005909881307165, 0.7790506137163637, 0.7798891736625194, 0.6401720905553133, 0.3813286819230283, 0.7607874331187379, 0.7808662980031218, 0.7569246728758117, 0.7764636688396882, 0.8007812140183731, 0.7841491597607536, 0.8142198542961561, 0.7968442017706202]}, {\"categories\": [\"0\", \"1\", \"2\", \"3\", \"4\", \"5\", \"6\", \"7\", \"8\", \"9\", \"10\", \"11\", \"12\", \"13\", \"14\", \"15\", \"16\", \"17\", \"18\", \"19\", \"20\", \"21\", \"22\", \"23\", \"24\", \"25\", \"26\", \"27\", \"28\", \"29\", \"30\", \"31\", \"32\", \"33\", \"34\", \"35\", \"36\", \"38\", \"39\"], \"mode\": \"lines\", \"name\": \"f1_score_macro_max\", \"stepped\": true, \"type\": \"scatter\", \"data\": [0.81022357448948, 0.81022357448948, 0.81022357448948, 0.81022357448948, 0.81022357448948, 0.81022357448948, 0.81022357448948, 0.81022357448948, 0.81022357448948, 0.81022357448948, 0.81022357448948, 0.81022357448948, 0.81022357448948, 0.81022357448948, 0.81022357448948, 0.81022357448948, 0.81022357448948, 0.81022357448948, 0.81022357448948, 0.81022357448948, 0.81022357448948, 0.81022357448948, 0.81022357448948, 0.81022357448948, 0.81022357448948, 0.81022357448948, 0.81022357448948, 0.81022357448948, 0.81022357448948, 0.81022357448948, 0.81022357448948, 0.81022357448948, 0.81022357448948, 0.81022357448948, 0.81022357448948, 0.81022357448948, 0.81022357448948, 0.8142198542961561, 0.8142198542961561]}], \"recall_score_macro\": [{\"categories\": [\"0\", \"1\", \"2\", \"3\", \"4\", \"5\", \"6\", \"7\", \"8\", \"9\", \"10\", \"11\", \"12\", \"13\", \"14\", \"15\", \"16\", \"17\", \"18\", \"19\", \"20\", \"21\", \"22\", \"23\", \"24\", \"25\", \"26\", \"27\", \"28\", \"29\", \"30\", \"31\", \"32\", \"33\", \"34\", \"35\", \"36\", \"38\", \"39\"], \"mode\": \"markers\", \"name\": \"recall_score_macro\", \"stepped\": false, \"type\": \"scatter\", \"data\": [0.8070618606285013, 0.7764876306008431, 0.7535633675138459, 0.7754307644828229, 0.7933077490715063, 0.7727796857705694, 0.784516756019726, 0.7842750382479985, 0.7258062018756268, 0.7782366876516492, 0.7564333071608668, 0.7856567317652418, 0.8016403420072672, 0.7708870224406278, 0.7927057603048651, 0.7979167371807211, 0.7533883648519405, 0.7468983012224081, 0.7979167371807211, 0.7672668529177892, 0.749998388460046, 0.7836060508462745, 0.7788474510109483, 0.7953432165832132, 0.7601142304178357, 0.7206458203029237, 0.7961518658841488, 0.7723295578345698, 0.7710862378660002, 0.6473683875739193, 0.5, 0.7558335865963124, 0.7756138718538685, 0.7492242616649637, 0.7748500694916007, 0.7966283087838653, 0.7895736831911652, 0.8074735554667077, 0.7921289230200417]}, {\"categories\": [\"0\", \"1\", \"2\", \"3\", \"4\", \"5\", \"6\", \"7\", \"8\", \"9\", \"10\", \"11\", \"12\", \"13\", \"14\", \"15\", \"16\", \"17\", \"18\", \"19\", \"20\", \"21\", \"22\", \"23\", \"24\", \"25\", \"26\", \"27\", \"28\", \"29\", \"30\", \"31\", \"32\", \"33\", \"34\", \"35\", \"36\", \"38\", \"39\"], \"mode\": \"lines\", \"name\": \"recall_score_macro_max\", \"stepped\": true, \"type\": \"scatter\", \"data\": [0.8070618606285013, 0.8070618606285013, 0.8070618606285013, 0.8070618606285013, 0.8070618606285013, 0.8070618606285013, 0.8070618606285013, 0.8070618606285013, 0.8070618606285013, 0.8070618606285013, 0.8070618606285013, 0.8070618606285013, 0.8070618606285013, 0.8070618606285013, 0.8070618606285013, 0.8070618606285013, 0.8070618606285013, 0.8070618606285013, 0.8070618606285013, 0.8070618606285013, 0.8070618606285013, 0.8070618606285013, 0.8070618606285013, 0.8070618606285013, 0.8070618606285013, 0.8070618606285013, 0.8070618606285013, 0.8070618606285013, 0.8070618606285013, 0.8070618606285013, 0.8070618606285013, 0.8070618606285013, 0.8070618606285013, 0.8070618606285013, 0.8070618606285013, 0.8070618606285013, 0.8070618606285013, 0.8074735554667077, 0.8074735554667077]}], \"weighted_accuracy\": [{\"categories\": [\"0\", \"1\", \"2\", \"3\", \"4\", \"5\", \"6\", \"7\", \"8\", \"9\", \"10\", \"11\", \"12\", \"13\", \"14\", \"15\", \"16\", \"17\", \"18\", \"19\", \"20\", \"21\", \"22\", \"23\", \"24\", \"25\", \"26\", \"27\", \"28\", \"29\", \"30\", \"31\", \"32\", \"33\", \"34\", \"35\", \"36\", \"38\", \"39\"], \"mode\": \"markers\", \"name\": \"weighted_accuracy\", \"stepped\": false, \"type\": \"scatter\", \"data\": [0.8378167793809532, 0.8252461505912302, 0.8091694366187566, 0.834433276482994, 0.8105110885900068, 0.7637884008816714, 0.8072317294074635, 0.8131355487834521, 0.8251561427253308, 0.8208676051723289, 0.8346206172670184, 0.8147313856361181, 0.8368329814887061, 0.8108326411423352, 0.8141724701750223, 0.828931946671165, 0.8233763715348327, 0.8203381128557492, 0.828931946671165, 0.7942495537029521, 0.8542810492347842, 0.8276742283376666, 0.8205686301569676, 0.8231426670411022, 0.8198557582191436, 0.835484876420216, 0.833378353549977, 0.8234868448911006, 0.8329144332571158, 0.7869765267786651, 0.7198631244447945, 0.8070982173111735, 0.8203644813676192, 0.8153926144929547, 0.8070927747513997, 0.8328921744329776, 0.7968215410101757, 0.8487204789522949, 0.8313941220485735]}, {\"categories\": [\"0\", \"1\", \"2\", \"3\", \"4\", \"5\", \"6\", \"7\", \"8\", \"9\", \"10\", \"11\", \"12\", \"13\", \"14\", \"15\", \"16\", \"17\", \"18\", \"19\", \"20\", \"21\", \"22\", \"23\", \"24\", \"25\", \"26\", \"27\", \"28\", \"29\", \"30\", \"31\", \"32\", \"33\", \"34\", \"35\", \"36\", \"38\", \"39\"], \"mode\": \"lines\", \"name\": \"weighted_accuracy_max\", \"stepped\": true, \"type\": \"scatter\", \"data\": [0.8378167793809532, 0.8378167793809532, 0.8378167793809532, 0.8378167793809532, 0.8378167793809532, 0.8378167793809532, 0.8378167793809532, 0.8378167793809532, 0.8378167793809532, 0.8378167793809532, 0.8378167793809532, 0.8378167793809532, 0.8378167793809532, 0.8378167793809532, 0.8378167793809532, 0.8378167793809532, 0.8378167793809532, 0.8378167793809532, 0.8378167793809532, 0.8378167793809532, 0.8542810492347842, 0.8542810492347842, 0.8542810492347842, 0.8542810492347842, 0.8542810492347842, 0.8542810492347842, 0.8542810492347842, 0.8542810492347842, 0.8542810492347842, 0.8542810492347842, 0.8542810492347842, 0.8542810492347842, 0.8542810492347842, 0.8542810492347842, 0.8542810492347842, 0.8542810492347842, 0.8542810492347842, 0.8542810492347842, 0.8542810492347842]}]}, \"metricName\": null, \"primaryMetricName\": \"accuracy\", \"showLegend\": false}, \"run_metrics\": [{\"name\": \"experiment_status\", \"run_id\": \"AutoML_d0d8bb1f-c6d5-48c2-9de9-4acdea4dedf0\", \"categories\": [0, 1, 2, 3, 4, 5, 6, 7, 8, 9, 10, 11, 12, 13], \"series\": [{\"data\": [\"DatasetEvaluation\", \"FeaturesGeneration\", \"DatasetFeaturization\", \"DatasetFeaturizationCompleted\", \"DatasetCrossValidationSplit\", \"ModelSelection\", \"BestRunExplainModel\", \"ModelExplanationDataSetSetup\", \"PickSurrogateModel\", \"EngineeredFeatureExplanations\", \"EngineeredFeatureExplanations\", \"RawFeaturesExplanations\", \"RawFeaturesExplanations\", \"BestRunExplainModel\"]}]}, {\"name\": \"experiment_status_description\", \"run_id\": \"AutoML_d0d8bb1f-c6d5-48c2-9de9-4acdea4dedf0\", \"categories\": [0, 1, 2, 3, 4, 5, 6, 7, 8, 9, 10, 11, 12, 13], \"series\": [{\"data\": [\"Gathering dataset statistics.\", \"Generating features for the dataset.\", \"Beginning to fit featurizers and featurize the dataset.\", \"Completed fit featurizers and featurizing the dataset.\", \"Generating individually featurized CV splits.\", \"Beginning model selection.\", \"Best run model explanations started\", \"Model explanations data setup completed\", \"Choosing LightGBM as the surrogate model for explanations\", \"Computation of engineered features started\", \"Computation of engineered features completed\", \"Computation of raw features started\", \"Computation of raw features completed\", \"Best run model explanations completed\"]}]}, {\"name\": \"precision_score_weighted\", \"run_id\": \"AutoML_d0d8bb1f-c6d5-48c2-9de9-4acdea4dedf0\", \"categories\": [0], \"series\": [{\"data\": [0.8300729642566719]}]}, {\"name\": \"f1_score_micro\", \"run_id\": \"AutoML_d0d8bb1f-c6d5-48c2-9de9-4acdea4dedf0\", \"categories\": [0], \"series\": [{\"data\": [0.8293674840760042]}]}, {\"name\": \"AUC_micro\", \"run_id\": \"AutoML_d0d8bb1f-c6d5-48c2-9de9-4acdea4dedf0\", \"categories\": [0], \"series\": [{\"data\": [0.8885492721468845]}]}, {\"name\": \"f1_score_weighted\", \"run_id\": \"AutoML_d0d8bb1f-c6d5-48c2-9de9-4acdea4dedf0\", \"categories\": [0], \"series\": [{\"data\": [0.8267611486901312]}]}, {\"name\": \"accuracy\", \"run_id\": \"AutoML_d0d8bb1f-c6d5-48c2-9de9-4acdea4dedf0\", \"categories\": [0], \"series\": [{\"data\": [0.8293674840760042]}]}, {\"name\": \"AUC_macro\", \"run_id\": \"AutoML_d0d8bb1f-c6d5-48c2-9de9-4acdea4dedf0\", \"categories\": [0], \"series\": [{\"data\": [0.8723945690995817]}]}, {\"name\": \"average_precision_score_weighted\", \"run_id\": \"AutoML_d0d8bb1f-c6d5-48c2-9de9-4acdea4dedf0\", \"categories\": [0], \"series\": [{\"data\": [0.8740413880785805]}]}, {\"name\": \"weighted_accuracy\", \"run_id\": \"AutoML_d0d8bb1f-c6d5-48c2-9de9-4acdea4dedf0\", \"categories\": [0], \"series\": [{\"data\": [0.8487204789522949]}]}, {\"name\": \"balanced_accuracy\", \"run_id\": \"AutoML_d0d8bb1f-c6d5-48c2-9de9-4acdea4dedf0\", \"categories\": [0], \"series\": [{\"data\": [0.8074735554667077]}]}, {\"name\": \"average_precision_score_macro\", \"run_id\": \"AutoML_d0d8bb1f-c6d5-48c2-9de9-4acdea4dedf0\", \"categories\": [0], \"series\": [{\"data\": [0.8659170086919644]}]}, {\"name\": \"recall_score_weighted\", \"run_id\": \"AutoML_d0d8bb1f-c6d5-48c2-9de9-4acdea4dedf0\", \"categories\": [0], \"series\": [{\"data\": [0.8293674840760042]}]}, {\"name\": \"f1_score_macro\", \"run_id\": \"AutoML_d0d8bb1f-c6d5-48c2-9de9-4acdea4dedf0\", \"categories\": [0], \"series\": [{\"data\": [0.8142198542961561]}]}, {\"name\": \"AUC_weighted\", \"run_id\": \"AutoML_d0d8bb1f-c6d5-48c2-9de9-4acdea4dedf0\", \"categories\": [0], \"series\": [{\"data\": [0.8723945690995817]}]}, {\"name\": \"average_precision_score_micro\", \"run_id\": \"AutoML_d0d8bb1f-c6d5-48c2-9de9-4acdea4dedf0\", \"categories\": [0], \"series\": [{\"data\": [0.874790175666449]}]}, {\"name\": \"precision_score_micro\", \"run_id\": \"AutoML_d0d8bb1f-c6d5-48c2-9de9-4acdea4dedf0\", \"categories\": [0], \"series\": [{\"data\": [0.8293674840760042]}]}, {\"name\": \"precision_score_macro\", \"run_id\": \"AutoML_d0d8bb1f-c6d5-48c2-9de9-4acdea4dedf0\", \"categories\": [0], \"series\": [{\"data\": [0.827511183408341]}]}, {\"name\": \"recall_score_micro\", \"run_id\": \"AutoML_d0d8bb1f-c6d5-48c2-9de9-4acdea4dedf0\", \"categories\": [0], \"series\": [{\"data\": [0.8293674840760042]}]}, {\"name\": \"norm_macro_recall\", \"run_id\": \"AutoML_d0d8bb1f-c6d5-48c2-9de9-4acdea4dedf0\", \"categories\": [0], \"series\": [{\"data\": [0.6149471109334157]}]}, {\"name\": \"recall_score_macro\", \"run_id\": \"AutoML_d0d8bb1f-c6d5-48c2-9de9-4acdea4dedf0\", \"categories\": [0], \"series\": [{\"data\": [0.8074735554667077]}]}, {\"name\": \"matthews_correlation\", \"run_id\": \"AutoML_d0d8bb1f-c6d5-48c2-9de9-4acdea4dedf0\", \"categories\": [0], \"series\": [{\"data\": [0.6346080933699186]}]}, {\"name\": \"log_loss\", \"run_id\": \"AutoML_d0d8bb1f-c6d5-48c2-9de9-4acdea4dedf0\", \"categories\": [0], \"series\": [{\"data\": [0.4219744555043812]}]}], \"run_logs\": \"\\nRun is completed.\", \"graph\": {}, \"widget_settings\": {\"childWidgetDisplay\": \"popup\", \"send_telemetry\": false, \"log_level\": \"INFO\", \"sdk_version\": \"1.27.0\"}, \"loading\": false}"
          },
          "metadata": {}
        },
        {
          "output_type": "display_data",
          "data": {
            "text/plain": "<IPython.core.display.HTML object>",
            "text/html": "<table style=\"width:100%\"><tr><th>Experiment</th><th>Id</th><th>Type</th><th>Status</th><th>Details Page</th><th>Docs Page</th></tr><tr><td>automl_experiment</td><td>AutoML_d0d8bb1f-c6d5-48c2-9de9-4acdea4dedf0</td><td>automl</td><td>Completed</td><td><a href=\"https://ml.azure.com/runs/AutoML_d0d8bb1f-c6d5-48c2-9de9-4acdea4dedf0?wsid=/subscriptions/d4ad7261-832d-46b2-b093-22156001df5b/resourcegroups/aml-quickstarts-144979/workspaces/quick-starts-ws-144979&amp;tid=660b3398-b80e-49d2-bc5b-ac1dc93b5254\" target=\"_blank\" rel=\"noopener\">Link to Azure Machine Learning studio</a></td><td><a href=\"https://docs.microsoft.com/en-us/python/api/overview/azure/ml/intro?view=azure-ml-py\" target=\"_blank\" rel=\"noopener\">Link to Documentation</a></td></tr></table>"
          },
          "metadata": {}
        },
        {
          "output_type": "stream",
          "name": "stdout",
          "text": [
            "\n",
            "\n",
            "****************************************************************************************************\n",
            "DATA GUARDRAILS: \n",
            "\n",
            "TYPE:         Class balancing detection\n",
            "STATUS:       PASSED\n",
            "DESCRIPTION:  Your inputs were analyzed, and all classes are balanced in your training data.\n",
            "              Learn more about imbalanced data: https://aka.ms/AutomatedMLImbalancedData\n",
            "\n",
            "****************************************************************************************************\n",
            "\n",
            "TYPE:         Missing feature values imputation\n",
            "STATUS:       PASSED\n",
            "DESCRIPTION:  No feature missing values were detected in the training data.\n",
            "              Learn more about missing value imputation: https://aka.ms/AutomatedMLFeaturization\n",
            "\n",
            "****************************************************************************************************\n",
            "\n",
            "TYPE:         High cardinality feature detection\n",
            "STATUS:       PASSED\n",
            "DESCRIPTION:  Your inputs were analyzed, and no high cardinality features were detected.\n",
            "              Learn more about high cardinality feature handling: https://aka.ms/AutomatedMLFeaturization\n",
            "\n",
            "****************************************************************************************************\n",
            "\n",
            "****************************************************************************************************\n",
            "ITERATION: The iteration being evaluated.\n",
            "PIPELINE: A summary description of the pipeline being evaluated.\n",
            "DURATION: Time taken for the current iteration.\n",
            "METRIC: The result of computing score on the fitted pipeline.\n",
            "BEST: The best observed score thus far.\n",
            "****************************************************************************************************\n",
            "\n",
            " ITERATION   PIPELINE                                       DURATION      METRIC      BEST\n",
            "         0   MaxAbsScaler LightGBM                          0:02:39       0.8234    0.8234\n",
            "         1   MaxAbsScaler XGBoostClassifier                 0:01:57       0.8024    0.8234\n",
            "         2   MaxAbsScaler RandomForest                      0:00:45       0.7829    0.8234\n",
            "         3   MaxAbsScaler RandomForest                      0:00:43       0.8069    0.8234\n",
            "         4   MaxAbsScaler RandomForest                      0:00:44       0.8024    0.8234\n",
            "         5   MaxAbsScaler RandomForest                      0:02:04       0.7679    0.8234\n",
            "         6   SparseNormalizer XGBoostClassifier             0:02:10       0.7964    0.8234\n",
            "         7   SparseNormalizer XGBoostClassifier             0:00:42       0.7994    0.8234\n",
            "         8   MaxAbsScaler RandomForest                      0:00:43       0.7784    0.8234\n",
            "         9   SparseNormalizer LightGBM                      0:00:42       0.8009    0.8234\n",
            "        10   SparseNormalizer XGBoostClassifier             0:00:41       0.7979    0.8234\n",
            "        11   SparseNormalizer XGBoostClassifier             0:00:50       0.8009    0.8234\n",
            "        12   MaxAbsScaler LogisticRegression                0:00:40       0.8204    0.8234\n",
            "        13   MaxAbsScaler RandomForest                      0:00:46       0.7920    0.8234\n",
            "        14   SparseNormalizer XGBoostClassifier             0:00:39       0.8039    0.8234\n",
            "        15   StandardScalerWrapper LogisticRegression       0:00:44       0.8144    0.8234\n",
            "        16   MaxAbsScaler LightGBM                          0:00:40       0.7904    0.8234\n",
            "        17   StandardScalerWrapper RandomForest             0:00:43       0.7859    0.8234\n",
            "        18   MaxAbsScaler LogisticRegression                0:00:48       0.8144    0.8234\n",
            "        19   StandardScalerWrapper GradientBoosting         0:00:44       0.7814    0.8234\n",
            "        20   StandardScalerWrapper LightGBM                 0:00:43       0.8054    0.8234\n",
            "        21   SparseNormalizer XGBoostClassifier             0:00:42       0.8069    0.8234\n",
            "        22   SparseNormalizer LightGBM                      0:00:43       0.8009    0.8234\n",
            "        23   SparseNormalizer XGBoostClassifier             0:00:45       0.8099    0.8234\n",
            "        24   StandardScalerWrapper XGBoostClassifier        0:00:43       0.7920    0.8234\n",
            "        25   MaxAbsScaler LightGBM                          0:01:05       0.7815    0.8234\n",
            "        26   MaxAbsScaler LightGBM                          0:00:41       0.8159    0.8234\n",
            "        27   MaxAbsScaler LightGBM                          0:00:40       0.7994    0.8234\n",
            "        28   SparseNormalizer XGBoostClassifier             0:00:43       0.8039    0.8234\n",
            "        29   StandardScalerWrapper LightGBM                 0:00:43       0.7215    0.8234\n",
            "        30   StandardScalerWrapper LightGBM                 0:00:43       0.6168    0.8234\n",
            "        31   StandardScalerWrapper LightGBM                 0:00:41       0.7829    0.8234\n",
            "        32   StandardScalerWrapper XGBoostClassifier        0:00:45       0.7994    0.8234\n",
            "        33   StandardScalerWrapper XGBoostClassifier        0:00:44       0.7845    0.8234\n",
            "        34   SparseNormalizer ExtremeRandomTrees            0:00:43       0.7919    0.8234\n",
            "        35   MaxAbsScaler LightGBM                          0:00:25       0.8159    0.8234\n",
            "        36   MaxAbsScaler LogisticRegression                0:00:27       0.7934    0.8234\n",
            "        37                                                  0:00:15          nan    0.8234\n",
            "        38    VotingEnsemble                                0:00:53       0.8294    0.8294\n",
            "        39    StackEnsemble                                 0:00:59       0.8129    0.8294\n"
          ]
        },
        {
          "output_type": "execute_result",
          "execution_count": 27,
          "data": {
            "text/plain": "{'runId': 'AutoML_d0d8bb1f-c6d5-48c2-9de9-4acdea4dedf0',\n 'target': 'cpu-cluster',\n 'status': 'Completed',\n 'startTimeUtc': '2021-05-16T18:01:29.331628Z',\n 'endTimeUtc': '2021-05-16T18:21:05.201505Z',\n 'properties': {'num_iterations': '1000',\n  'training_type': 'TrainFull',\n  'acquisition_function': 'EI',\n  'primary_metric': 'accuracy',\n  'train_split': '0',\n  'acquisition_parameter': '0',\n  'num_cross_validation': '3',\n  'target': 'cpu-cluster',\n  'AMLSettingsJsonString': '{\"path\":null,\"name\":\"automl_experiment\",\"subscription_id\":\"d4ad7261-832d-46b2-b093-22156001df5b\",\"resource_group\":\"aml-quickstarts-144979\",\"workspace_name\":\"quick-starts-ws-144979\",\"region\":\"southcentralus\",\"compute_target\":\"cpu-cluster\",\"spark_service\":null,\"azure_service\":\"remote\",\"many_models\":false,\"pipeline_fetch_max_batch_size\":1,\"enable_batch_run\":false,\"enable_run_restructure\":false,\"start_auxiliary_runs_before_parent_complete\":false,\"iterations\":1000,\"primary_metric\":\"accuracy\",\"task_type\":\"classification\",\"data_script\":null,\"test_size\":0.0,\"validation_size\":0.0,\"n_cross_validations\":3,\"y_min\":null,\"y_max\":null,\"num_classes\":null,\"featurization\":\"auto\",\"_ignore_package_version_incompatibilities\":false,\"is_timeseries\":false,\"max_cores_per_iteration\":1,\"max_concurrent_iterations\":5,\"iteration_timeout_minutes\":null,\"mem_in_mb\":null,\"enforce_time_on_windows\":false,\"experiment_timeout_minutes\":30,\"experiment_exit_score\":null,\"whitelist_models\":null,\"blacklist_algos\":[\"TensorFlowLinearClassifier\",\"TensorFlowDNN\"],\"supported_models\":[\"LinearSVM\",\"MultinomialNaiveBayes\",\"LightGBM\",\"ExtremeRandomTrees\",\"AveragedPerceptronClassifier\",\"SGD\",\"DecisionTree\",\"GradientBoosting\",\"TensorFlowLinearClassifier\",\"LogisticRegression\",\"SVM\",\"BernoulliNaiveBayes\",\"XGBoostClassifier\",\"KNN\",\"TensorFlowDNN\",\"RandomForest\"],\"private_models\":[],\"auto_blacklist\":true,\"blacklist_samples_reached\":false,\"exclude_nan_labels\":true,\"verbosity\":20,\"_debug_log\":\"azureml_automl.log\",\"show_warnings\":false,\"model_explainability\":true,\"service_url\":null,\"sdk_url\":null,\"sdk_packages\":null,\"enable_onnx_compatible_models\":false,\"enable_split_onnx_featurizer_estimator_models\":false,\"vm_type\":\"STANDARD_DS11_V2\",\"telemetry_verbosity\":20,\"send_telemetry\":true,\"enable_dnn\":false,\"scenario\":\"SDK-1.13.0\",\"environment_label\":null,\"save_mlflow\":false,\"force_text_dnn\":false,\"enable_feature_sweeping\":true,\"enable_early_stopping\":true,\"early_stopping_n_iters\":10,\"metrics\":null,\"enable_metric_confidence\":false,\"enable_ensembling\":true,\"enable_stack_ensembling\":true,\"ensemble_iterations\":15,\"enable_tf\":false,\"enable_subsampling\":null,\"subsample_seed\":null,\"enable_nimbusml\":false,\"enable_streaming\":false,\"force_streaming\":false,\"track_child_runs\":true,\"allowed_private_models\":[],\"label_column_name\":\"Survived\",\"weight_column_name\":null,\"cv_split_column_names\":null,\"enable_local_managed\":false,\"_local_managed_run_id\":null,\"cost_mode\":1,\"lag_length\":0,\"metric_operation\":\"maximize\",\"preprocess\":true}',\n  'DataPrepJsonString': '{\\\\\"training_data\\\\\": {\\\\\"datasetId\\\\\": \\\\\"eec1bbcc-b815-4a1a-8e20-b7c607c485cf\\\\\"}, \\\\\"datasets\\\\\": 0}',\n  'EnableSubsampling': None,\n  'runTemplate': 'AutoML',\n  'azureml.runsource': 'automl',\n  'display_task_type': 'classification',\n  'dependencies_versions': '{\"azureml-widgets\": \"1.27.0\", \"azureml-train\": \"1.27.0\", \"azureml-train-restclients-hyperdrive\": \"1.27.0\", \"azureml-train-core\": \"1.27.0\", \"azureml-train-automl\": \"1.27.0\", \"azureml-train-automl-runtime\": \"1.27.0\", \"azureml-train-automl-client\": \"1.27.0\", \"azureml-tensorboard\": \"1.27.0\", \"azureml-telemetry\": \"1.27.0\", \"azureml-sdk\": \"1.27.0\", \"azureml-samples\": \"0+unknown\", \"azureml-pipeline\": \"1.27.0\", \"azureml-pipeline-steps\": \"1.27.0\", \"azureml-pipeline-core\": \"1.27.0\", \"azureml-opendatasets\": \"1.27.0\", \"azureml-model-management-sdk\": \"1.0.1b6.post1\", \"azureml-mlflow\": \"1.27.0\", \"azureml-interpret\": \"1.27.0\", \"azureml-explain-model\": \"1.27.0\", \"azureml-defaults\": \"1.27.0\", \"azureml-dataset-runtime\": \"1.27.0\", \"azureml-dataprep\": \"2.14.2\", \"azureml-dataprep-rslex\": \"1.12.1\", \"azureml-dataprep-native\": \"33.0.0\", \"azureml-datadrift\": \"1.27.0\", \"azureml-core\": \"1.27.0\", \"azureml-contrib-services\": \"1.27.0\", \"azureml-contrib-server\": \"1.27.0\", \"azureml-contrib-reinforcementlearning\": \"1.27.0\", \"azureml-contrib-pipeline-steps\": \"1.27.0\", \"azureml-contrib-notebook\": \"1.27.0\", \"azureml-contrib-gbdt\": \"1.27.0\", \"azureml-contrib-fairness\": \"1.27.0\", \"azureml-contrib-dataset\": \"1.27.0\", \"azureml-cli-common\": \"1.27.0\", \"azureml-automl-runtime\": \"1.27.0\", \"azureml-automl-dnn-nlp\": \"1.27.0\", \"azureml-automl-core\": \"1.27.0\", \"azureml-accel-models\": \"1.27.0\"}',\n  '_aml_system_scenario_identification': 'Remote.Parent',\n  'ClientType': 'SDK',\n  'environment_cpu_name': 'AzureML-AutoML',\n  'environment_cpu_label': 'prod',\n  'environment_gpu_name': 'AzureML-AutoML-GPU',\n  'environment_gpu_label': 'prod',\n  'root_attribution': 'automl',\n  'attribution': 'AutoML',\n  'Orchestrator': 'AutoML',\n  'CancelUri': 'https://southcentralus.api.azureml.ms/jasmine/v1.0/subscriptions/d4ad7261-832d-46b2-b093-22156001df5b/resourceGroups/aml-quickstarts-144979/providers/Microsoft.MachineLearningServices/workspaces/quick-starts-ws-144979/experimentids/003c0a1d-92d8-43ae-97fe-faef4156b0eb/cancel/AutoML_d0d8bb1f-c6d5-48c2-9de9-4acdea4dedf0',\n  'ClientSdkVersion': '1.27.0.post1',\n  'snapshotId': '00000000-0000-0000-0000-000000000000',\n  'SetupRunId': 'AutoML_d0d8bb1f-c6d5-48c2-9de9-4acdea4dedf0_setup',\n  'SetupRunContainerId': 'dcid.AutoML_d0d8bb1f-c6d5-48c2-9de9-4acdea4dedf0_setup',\n  'FeaturizationRunJsonPath': 'featurizer_container.json',\n  'FeaturizationRunId': 'AutoML_d0d8bb1f-c6d5-48c2-9de9-4acdea4dedf0_featurize',\n  'ProblemInfoJsonString': '{\"dataset_num_categorical\": 0, \"is_sparse\": true, \"subsampling\": false, \"dataset_classes\": 2, \"dataset_features\": 32, \"dataset_samples\": 668, \"single_frequency_class_detected\": false}',\n  'ModelExplainRunId': 'AutoML_d0d8bb1f-c6d5-48c2-9de9-4acdea4dedf0_ModelExplain'},\n 'inputDatasets': [{'dataset': {'id': 'eec1bbcc-b815-4a1a-8e20-b7c607c485cf'}, 'consumptionDetails': {'type': 'RunInput', 'inputName': 'training_data', 'mechanism': 'Direct'}}],\n 'outputDatasets': [],\n 'logFiles': {},\n 'submittedBy': 'ODL_User 144979'}"
          },
          "metadata": {}
        }
      ],
      "execution_count": 27,
      "metadata": {
        "gather": {
          "logged": 1621189570648
        },
        "jupyter": {
          "outputs_hidden": false,
          "source_hidden": false
        },
        "nteract": {
          "transient": {
            "deleting": false
          }
        }
      }
    },
    {
      "cell_type": "markdown",
      "source": [
        "## Best Model\n",
        "\n",
        "TODO: In the cell below, get the best model from the automl experiments and display all the properties of the model.\n",
        "\n"
      ],
      "metadata": {}
    },
    {
      "cell_type": "code",
      "source": [
        "best_automl, best_fit_model = remote_run.get_output()\r\n",
        "print(best_fit_model)"
      ],
      "outputs": [
        {
          "output_type": "stream",
          "name": "stdout",
          "text": [
            "Pipeline(memory=None,\n",
            "         steps=[('datatransformer',\n",
            "                 DataTransformer(enable_dnn=None, enable_feature_sweeping=None,\n",
            "                                 feature_sweeping_config=None,\n",
            "                                 feature_sweeping_timeout=None,\n",
            "                                 featurization_config=None, force_text_dnn=None,\n",
            "                                 is_cross_validation=None,\n",
            "                                 is_onnx_compatible=None, logger=None,\n",
            "                                 observer=None, task=None, working_dir=None)),\n",
            "                ('prefittedsoftvotingclassifier',...\n",
            "                                                                                               reg_alpha=0.20833333333333334,\n",
            "                                                                                               reg_lambda=0.9375,\n",
            "                                                                                               scale_pos_weight=1,\n",
            "                                                                                               seed=None,\n",
            "                                                                                               silent=None,\n",
            "                                                                                               subsample=0.9,\n",
            "                                                                                               tree_method='auto',\n",
            "                                                                                               verbose=-10,\n",
            "                                                                                               verbosity=0))],\n",
            "                                                                     verbose=False))],\n",
            "                                               flatten_transform=None,\n",
            "                                               weights=[0.06666666666666667,\n",
            "                                                        0.3333333333333333,\n",
            "                                                        0.06666666666666667,\n",
            "                                                        0.26666666666666666,\n",
            "                                                        0.06666666666666667,\n",
            "                                                        0.06666666666666667,\n",
            "                                                        0.13333333333333333]))],\n",
            "         verbose=False)\n"
          ]
        }
      ],
      "execution_count": 28,
      "metadata": {
        "gather": {
          "logged": 1621189746466
        },
        "jupyter": {
          "outputs_hidden": false,
          "source_hidden": false
        },
        "nteract": {
          "transient": {
            "deleting": false
          }
        }
      }
    },
    {
      "cell_type": "code",
      "source": [
        "\r\n",
        "print(best_automl)"
      ],
      "outputs": [
        {
          "output_type": "stream",
          "name": "stdout",
          "text": [
            "Run(Experiment: automl_experiment,\n",
            "Id: AutoML_d0d8bb1f-c6d5-48c2-9de9-4acdea4dedf0_38,\n",
            "Type: azureml.scriptrun,\n",
            "Status: Completed)\n"
          ]
        }
      ],
      "execution_count": 29,
      "metadata": {
        "collapsed": true,
        "jupyter": {
          "source_hidden": false,
          "outputs_hidden": false
        },
        "nteract": {
          "transient": {
            "deleting": false
          }
        },
        "gather": {
          "logged": 1621189942372
        }
      }
    },
    {
      "cell_type": "code",
      "source": [
        "\r\n",
        "#TODO: Save the best model\r\n",
        "import joblib, pickle\r\n",
        "joblib.dump(best_fit_model, 'best_fit_automl_model.pkl')"
      ],
      "outputs": [
        {
          "output_type": "execute_result",
          "execution_count": 31,
          "data": {
            "text/plain": "['best_fit_automl_model.pkl']"
          },
          "metadata": {}
        }
      ],
      "execution_count": 31,
      "metadata": {
        "gather": {
          "logged": 1621190034328
        },
        "jupyter": {
          "outputs_hidden": false,
          "source_hidden": false
        },
        "nteract": {
          "transient": {
            "deleting": false
          }
        }
      }
    },
    {
      "cell_type": "markdown",
      "source": [
        "## Model Deployment\n",
        "\n",
        "Remember you have to deploy only one of the two models you trained.. Perform the steps in the rest of this notebook only if you wish to deploy this model.\n",
        "\n",
        "TODO: In the cell below, register the model, create an inference config and deploy the model as a web service."
      ],
      "metadata": {}
    },
    {
      "cell_type": "code",
      "source": [
        "# Register the Model\r\n",
        "from azureml.core.model import Model\r\n",
        "model = Model.register(workspace = ws, model_name = 'best_fit_automl_model', model_path = 'best_fit_automl_model.pkl')\r\n",
        "print(model.name, model.id, model.version, sep='\\t')"
      ],
      "outputs": [
        {
          "output_type": "stream",
          "name": "stdout",
          "text": [
            "Registering model best_fit_automl_model\n",
            "best_fit_automl_model\tbest_fit_automl_model:1\t1\n"
          ]
        }
      ],
      "execution_count": 32,
      "metadata": {
        "gather": {
          "logged": 1621190070587
        },
        "jupyter": {
          "outputs_hidden": false,
          "source_hidden": false
        },
        "nteract": {
          "transient": {
            "deleting": false
          }
        }
      }
    },
    {
      "cell_type": "markdown",
      "source": [
        "TODO: In the cell below, send a request to the web service you deployed to test it."
      ],
      "metadata": {
        "collapsed": true,
        "gather": {
          "logged": 1598431657736
        },
        "jupyter": {
          "outputs_hidden": false,
          "source_hidden": false
        },
        "nteract": {
          "transient": {
            "deleting": false
          }
        }
      }
    },
    {
      "cell_type": "code",
      "source": [
        "from azureml.core.environment import Environment\r\n",
        "from azureml.core.model import InferenceConfig\r\n",
        "from azureml.core.webservice import LocalWebservice, Webservice, AciWebservice\r\n",
        "from azureml.core.conda_dependencies import CondaDependencies\r\n",
        "import azureml.train.automl\r\n",
        "\r\n",
        "# Create the environment\r\n",
        "env = best_automl.get_environment()\r\n",
        "conda_dep = CondaDependencies()\r\n",
        "\r\n",
        "inference_config = InferenceConfig(entry_script='score.py', environment=env)\r\n",
        "\r\n",
        "deployment_config = AciWebservice.deploy_configuration(cpu_cores=1, memory_gb=4, enable_app_insights=True)\r\n",
        "service = Model.deploy(ws, \"customerservice\", [model], inference_config, deployment_config)\r\n",
        "service.wait_for_deployment(show_output = True)\r\n",
        "\r\n",
        "print(service.state)\r\n",
        "print(service.scoring_uri)\r\n",
        "print(service.swagger_uri)"
      ],
      "outputs": [
        {
          "output_type": "stream",
          "name": "stdout",
          "text": [
            "Tips: You can try get_logs(): https://aka.ms/debugimage#dockerlog or local deployment: https://aka.ms/debugimage#debug-locally to debug if deployment takes longer than 10 minutes.\n",
            "Running\n",
            "2021-05-16 18:41:57+00:00 Creating Container Registry if not exists..\n",
            "2021-05-16 18:42:08+00:00 Registering the environment..\n",
            "2021-05-16 18:42:09+00:00 Use the existing image.\n",
            "2021-05-16 18:42:09+00:00 Generating deployment configuration.\n",
            "2021-05-16 18:42:10+00:00 Submitting deployment to compute.\n",
            "2021-05-16 18:42:13+00:00 Checking the status of deployment customerservice..\n",
            "2021-05-16 18:46:31+00:00 Checking the status of inference endpoint customerservice.\n",
            "Succeeded\n",
            "ACI service creation operation finished, operation \"Succeeded\"\n",
            "Healthy\n",
            "http://3d2e87c7-7675-4031-b273-8cdbf535577a.southcentralus.azurecontainer.io/score\n",
            "http://3d2e87c7-7675-4031-b273-8cdbf535577a.southcentralus.azurecontainer.io/swagger.json\n"
          ]
        }
      ],
      "execution_count": 34,
      "metadata": {
        "gather": {
          "logged": 1621190796668
        },
        "jupyter": {
          "outputs_hidden": false,
          "source_hidden": false
        },
        "nteract": {
          "transient": {
            "deleting": false
          }
        }
      }
    },
    {
      "cell_type": "markdown",
      "source": [
        "TODO: In the cell below, print the logs of the web service and delete the service"
      ],
      "metadata": {
        "collapsed": true,
        "gather": {
          "logged": 1598432765711
        },
        "jupyter": {
          "outputs_hidden": false,
          "source_hidden": false
        },
        "nteract": {
          "transient": {
            "deleting": false
          }
        }
      }
    },
    {
      "cell_type": "code",
      "source": [
        "import requests\r\n",
        "import json\r\n",
        "\r\n",
        "# URL for the web service\r\n",
        "scoring_uri = 'http://3d2e87c7-7675-4031-b273-8cdbf535577a.southcentralus.azurecontainer.io/score'\r\n",
        "\r\n",
        "# Set the content type\r\n",
        "headers = {'Content-Type': 'application/json'}\r\n",
        "\r\n",
        "# Two sets of data to score, so we get two results back\r\n",
        "data = {\"data\":\r\n",
        "        [{\r\n",
        "                \"Pclass\" :3,\r\n",
        "                \"Sex\":0,\r\n",
        "                \"Age\" :30.0,\r\n",
        "                \"SibSp\" :0,\r\n",
        "                \"Parch\":0,\r\n",
        "                \"Fare\" :9.500,\r\n",
        "                \"Embarked\" :2,\r\n",
        "                \"FamilySize\" :1 }\r\n",
        "        ]\r\n",
        "        }\r\n",
        "# Convert to JSON string\r\n",
        "input_data = json.dumps(data)\r\n",
        "\r\n",
        "# Make the request and display the response\r\n",
        "resp = requests.post(scoring_uri, input_data, headers=headers)\r\n",
        "\r\n",
        "print(\"Response Code : \", resp.status_code)\r\n",
        "print(\"Predicted Value : \",resp.text)"
      ],
      "outputs": [
        {
          "output_type": "stream",
          "name": "stdout",
          "text": [
            "Response Code :  200\n",
            "Predicted Value :  [0]\n"
          ]
        }
      ],
      "execution_count": 37,
      "metadata": {
        "jupyter": {
          "outputs_hidden": false,
          "source_hidden": false
        },
        "nteract": {
          "transient": {
            "deleting": false
          }
        },
        "gather": {
          "logged": 1621191012152
        }
      }
    },
    {
      "cell_type": "code",
      "source": [
        "# Web Service Logs\r\n",
        "print(service.get_logs())"
      ],
      "outputs": [
        {
          "output_type": "stream",
          "name": "stdout",
          "text": [
            "2021-05-16T18:46:23,648957400+00:00 - iot-server/run \n",
            "2021-05-16T18:46:23,649254300+00:00 - rsyslog/run \n",
            "2021-05-16T18:46:23,667598800+00:00 - nginx/run \n",
            "/usr/sbin/nginx: /azureml-envs/azureml_98cae94c606e3ceb655a787040a8a93c/lib/libcrypto.so.1.0.0: no version information available (required by /usr/sbin/nginx)\n",
            "/usr/sbin/nginx: /azureml-envs/azureml_98cae94c606e3ceb655a787040a8a93c/lib/libcrypto.so.1.0.0: no version information available (required by /usr/sbin/nginx)\n",
            "/usr/sbin/nginx: /azureml-envs/azureml_98cae94c606e3ceb655a787040a8a93c/lib/libssl.so.1.0.0: no version information available (required by /usr/sbin/nginx)\n",
            "/usr/sbin/nginx: /azureml-envs/azureml_98cae94c606e3ceb655a787040a8a93c/lib/libssl.so.1.0.0: no version information available (required by /usr/sbin/nginx)\n",
            "2021-05-16T18:46:23,673543300+00:00 - gunicorn/run \n",
            "/usr/sbin/nginx: /azureml-envs/azureml_98cae94c606e3ceb655a787040a8a93c/lib/libssl.so.1.0.0: no version information available (required by /usr/sbin/nginx)\n",
            "rsyslogd: /azureml-envs/azureml_98cae94c606e3ceb655a787040a8a93c/lib/libuuid.so.1: no version information available (required by rsyslogd)\n",
            "EdgeHubConnectionString and IOTEDGE_IOTHUBHOSTNAME are not set. Exiting...\n",
            "2021-05-16T18:46:23,977367300+00:00 - iot-server/finish 1 0\n",
            "2021-05-16T18:46:23,982826000+00:00 - Exit code 1 is normal. Not restarting iot-server.\n",
            "Starting gunicorn 19.9.0\n",
            "Listening at: http://127.0.0.1:31311 (72)\n",
            "Using worker: sync\n",
            "worker timeout is set to 300\n",
            "Booting worker with pid: 98\n",
            "SPARK_HOME not set. Skipping PySpark Initialization.\n",
            "Generating new fontManager, this may take some time...\n",
            "Initializing logger\n",
            "2021-05-16 18:46:29,204 | root | INFO | Starting up app insights client\n",
            "2021-05-16 18:46:29,205 | root | INFO | Starting up request id generator\n",
            "2021-05-16 18:46:29,206 | root | INFO | Starting up app insight hooks\n",
            "2021-05-16 18:46:29,206 | root | INFO | Invoking user's init function\n",
            "2021-05-16 18:46:31,799 | root | INFO | Users's init has completed successfully\n",
            "/azureml-envs/azureml_98cae94c606e3ceb655a787040a8a93c/lib/python3.6/site-packages/sklearn/externals/joblib/__init__.py:15: FutureWarning: sklearn.externals.joblib is deprecated in 0.21 and will be removed in 0.23. Please import this functionality directly from joblib, which can be installed with: pip install joblib. If this warning is raised when loading pickled models, you may need to re-serialize those models with scikit-learn 0.21+.\n",
            "  warnings.warn(msg, category=FutureWarning)\n",
            "2021-05-16 18:46:31,808 | root | INFO | Skipping middleware: dbg_model_info as it's not enabled.\n",
            "2021-05-16 18:46:31,808 | root | INFO | Skipping middleware: dbg_resource_usage as it's not enabled.\n",
            "2021-05-16 18:46:31,810 | root | INFO | Scoring timeout is found from os.environ: 60000 ms\n",
            "2021-05-16 18:46:31,825 | root | INFO | Swagger file not present\n",
            "2021-05-16 18:46:31,825 | root | INFO | 404\n",
            "127.0.0.1 - - [16/May/2021:18:46:31 +0000] \"GET /swagger.json HTTP/1.0\" 404 19 \"-\" \"Go-http-client/1.1\"\n",
            "2021-05-16 18:46:36,469 | root | INFO | Swagger file not present\n",
            "2021-05-16 18:46:36,469 | root | INFO | 404\n",
            "127.0.0.1 - - [16/May/2021:18:46:36 +0000] \"GET /swagger.json HTTP/1.0\" 404 19 \"-\" \"Go-http-client/1.1\"\n",
            "2021-05-16 18:48:41,457 | root | INFO | Validation Request Content-Type\n",
            "2021-05-16 18:48:41,458 | root | INFO | Scoring Timer is set to 60.0 seconds\n",
            "2021-05-16 18:48:41,465 | root | INFO | 200\n",
            "127.0.0.1 - - [16/May/2021:18:48:41 +0000] \"POST /score HTTP/1.0\" 200 541 \"-\" \"python-requests/2.25.1\"\n",
            "2021-05-16 18:49:41,449 | root | INFO | Validation Request Content-Type\n",
            "2021-05-16 18:49:41,450 | root | INFO | Scoring Timer is set to 60.0 seconds\n",
            "2021-05-16 18:49:41,458 | root | INFO | 200\n",
            "127.0.0.1 - - [16/May/2021:18:49:41 +0000] \"POST /score HTTP/1.0\" 200 543 \"-\" \"python-requests/2.25.1\"\n",
            "2021-05-16 18:50:11,917 | root | INFO | Validation Request Content-Type\n",
            "2021-05-16 18:50:11,918 | root | INFO | Scoring Timer is set to 60.0 seconds\n",
            "2021-05-16 18:50:11,978 | root | INFO | 200\n",
            "127.0.0.1 - - [16/May/2021:18:50:11 +0000] \"POST /score HTTP/1.0\" 200 3 \"-\" \"python-requests/2.25.1\"\n",
            "\n"
          ]
        }
      ],
      "execution_count": 38,
      "metadata": {
        "collapsed": true,
        "jupyter": {
          "source_hidden": false,
          "outputs_hidden": false
        },
        "nteract": {
          "transient": {
            "deleting": false
          }
        },
        "gather": {
          "logged": 1621191082625
        }
      }
    },
    {
      "cell_type": "code",
      "source": [
        "service.delete()"
      ],
      "outputs": [],
      "execution_count": 39,
      "metadata": {
        "collapsed": true,
        "jupyter": {
          "source_hidden": false,
          "outputs_hidden": false
        },
        "nteract": {
          "transient": {
            "deleting": false
          }
        },
        "gather": {
          "logged": 1621191148025
        }
      }
    }
  ],
  "metadata": {
    "kernel_info": {
      "name": "python3"
    },
    "kernelspec": {
      "name": "python3",
      "language": "python",
      "display_name": "Python 3"
    },
    "language_info": {
      "name": "python",
      "version": "3.6.9",
      "mimetype": "text/x-python",
      "codemirror_mode": {
        "name": "ipython",
        "version": 3
      },
      "pygments_lexer": "ipython3",
      "nbconvert_exporter": "python",
      "file_extension": ".py"
    },
    "nteract": {
      "version": "nteract-front-end@1.0.0"
    },
    "microsoft": {
      "host": {
        "AzureML": {
          "notebookHasBeenCompleted": true
        }
      }
    }
  },
  "nbformat": 4,
  "nbformat_minor": 2
}